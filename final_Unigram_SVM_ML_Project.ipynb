{
 "cells": [
  {
   "cell_type": "markdown",
   "metadata": {
    "id": "5rF0OXjgj8-L"
   },
   "source": [
    "###IMPORTING NECESSARY MODULES AND PACKAGES"
   ]
  },
  {
   "cell_type": "code",
   "execution_count": null,
   "metadata": {
    "colab": {
     "base_uri": "https://localhost:8080/"
    },
    "executionInfo": {
     "elapsed": 5,
     "status": "ok",
     "timestamp": 1637575203743,
     "user": {
      "displayName": "Rohan avireddy",
      "photoUrl": "https://lh3.googleusercontent.com/a-/AOh14GgDeaM2VSkZlXpIHSVTwhK0x_dzKWLzWzLXidXd=s64",
      "userId": "16070926612337581285"
     },
     "user_tz": -330
    },
    "id": "cnwN79MYFn6-",
    "outputId": "f0d6a550-9750-4b5f-d638-1e530509a2c1"
   },
   "outputs": [
    {
     "name": "stdout",
     "output_type": "stream",
     "text": [
      "Drive already mounted at /content/drive; to attempt to forcibly remount, call drive.mount(\"/content/drive\", force_remount=True).\n"
     ]
    }
   ],
   "source": [
    "from google.colab import drive\n",
    "drive.mount('/content/drive')"
   ]
  },
  {
   "cell_type": "code",
   "execution_count": null,
   "metadata": {
    "colab": {
     "base_uri": "https://localhost:8080/"
    },
    "executionInfo": {
     "elapsed": 661,
     "status": "ok",
     "timestamp": 1637580214040,
     "user": {
      "displayName": "Rohan avireddy",
      "photoUrl": "https://lh3.googleusercontent.com/a-/AOh14GgDeaM2VSkZlXpIHSVTwhK0x_dzKWLzWzLXidXd=s64",
      "userId": "16070926612337581285"
     },
     "user_tz": -330
    },
    "id": "EuxrmbFi-Gu0",
    "outputId": "ebcc6162-070d-4906-8d7b-0c801c52dd10"
   },
   "outputs": [
    {
     "name": "stdout",
     "output_type": "stream",
     "text": [
      "[nltk_data] Downloading package wordnet to /root/nltk_data...\n",
      "[nltk_data]   Package wordnet is already up-to-date!\n"
     ]
    },
    {
     "data": {
      "text/plain": [
       "True"
      ]
     },
     "execution_count": 118,
     "metadata": {},
     "output_type": "execute_result"
    }
   ],
   "source": [
    "import numpy as np\n",
    "import pandas as pd \n",
    "import matplotlib.pyplot as plt\n",
    "from sklearn.model_selection import train_test_split\n",
    "from sklearn.metrics import accuracy_score,f1_score, confusion_matrix\n",
    "import re\n",
    "from nltk.stem import WordNetLemmatizer\n",
    "from keras.preprocessing.text import Tokenizer\n",
    "import nltk\n",
    "from sklearn.feature_extraction.text import TfidfVectorizer\n",
    "from sklearn.feature_extraction.text import CountVectorizer\n",
    "nltk.download('wordnet')"
   ]
  },
  {
   "cell_type": "code",
   "execution_count": null,
   "metadata": {
    "id": "PwmGOk13VrDv"
   },
   "outputs": [],
   "source": [
    "from sklearn.preprocessing import LabelEncoder"
   ]
  },
  {
   "cell_type": "code",
   "execution_count": null,
   "metadata": {
    "id": "NSwA1v5zo0aq"
   },
   "outputs": [],
   "source": [
    "from sklearn.svm import SVC"
   ]
  },
  {
   "cell_type": "markdown",
   "metadata": {
    "id": "K0_zmrDukDYl"
   },
   "source": [
    "###TRAINING AND TEST SET"
   ]
  },
  {
   "cell_type": "code",
   "execution_count": null,
   "metadata": {
    "id": "fKiKXTCfC2CM"
   },
   "outputs": [],
   "source": [
    "hasoc_train=pd.read_csv(\"/content/drive/MyDrive/ML JCOMP SEM5/en_Hasoc2021_train.csv\") # hasoc only data\n",
    "# combined data of hasoc+kaggle\n",
    "hasoc_test=pd.read_csv(\"/content/drive/MyDrive/ML JCOMP SEM5/en_Hasoc2021_test_data.csv\") # hasoc test data\n",
    "hasoc_test_bin=pd.read_csv(\"/content/drive/MyDrive/ML JCOMP SEM5/1A_English_actual_labels.csv\") # hasoc binary test labels\n",
    "hasoc_test_mul=pd.read_csv(\"/content/drive/MyDrive/ML JCOMP SEM5/1B_English_actual_labels.csv\") #hasoc multiclass test labels"
   ]
  },
  {
   "cell_type": "code",
   "execution_count": null,
   "metadata": {
    "id": "ZObMDRtQHQGm"
   },
   "outputs": [],
   "source": [
    "combined_train=pd.read_csv(\"/content/drive/MyDrive/ML JCOMP SEM5/hate_bin_combine.csv\",encoding = \"ISO-8859-1\") "
   ]
  },
  {
   "cell_type": "code",
   "execution_count": null,
   "metadata": {
    "colab": {
     "base_uri": "https://localhost:8080/",
     "height": 423
    },
    "executionInfo": {
     "elapsed": 416,
     "status": "ok",
     "timestamp": 1637580288012,
     "user": {
      "displayName": "Rohan avireddy",
      "photoUrl": "https://lh3.googleusercontent.com/a-/AOh14GgDeaM2VSkZlXpIHSVTwhK0x_dzKWLzWzLXidXd=s64",
      "userId": "16070926612337581285"
     },
     "user_tz": -330
    },
    "id": "ZAhnNnbRVCW9",
    "outputId": "e9b78415-8d89-4a25-efb1-bb8866084a2f"
   },
   "outputs": [
    {
     "data": {
      "text/html": [
       "<div>\n",
       "<style scoped>\n",
       "    .dataframe tbody tr th:only-of-type {\n",
       "        vertical-align: middle;\n",
       "    }\n",
       "\n",
       "    .dataframe tbody tr th {\n",
       "        vertical-align: top;\n",
       "    }\n",
       "\n",
       "    .dataframe thead th {\n",
       "        text-align: right;\n",
       "    }\n",
       "</style>\n",
       "<table border=\"1\" class=\"dataframe\">\n",
       "  <thead>\n",
       "    <tr style=\"text-align: right;\">\n",
       "      <th></th>\n",
       "      <th>Unnamed: 0</th>\n",
       "      <th>_id</th>\n",
       "      <th>text</th>\n",
       "      <th>task_1</th>\n",
       "      <th>task_2</th>\n",
       "    </tr>\n",
       "  </thead>\n",
       "  <tbody>\n",
       "    <tr>\n",
       "      <th>0</th>\n",
       "      <td>4986</td>\n",
       "      <td>60c5d6bf5659ea5e55defa2c</td>\n",
       "      <td>@wealth if you made it through this &amp;amp;&amp;amp;...</td>\n",
       "      <td>HOF</td>\n",
       "      <td>PRFN</td>\n",
       "    </tr>\n",
       "    <tr>\n",
       "      <th>1</th>\n",
       "      <td>3394</td>\n",
       "      <td>60c5d6bf5659ea5e55def461</td>\n",
       "      <td>Technically that's still turning back the cloc...</td>\n",
       "      <td>HOF</td>\n",
       "      <td>OFFN</td>\n",
       "    </tr>\n",
       "    <tr>\n",
       "      <th>2</th>\n",
       "      <td>1310</td>\n",
       "      <td>60c5d6bf5659ea5e55defaad</td>\n",
       "      <td>@VMBJP @BJP4Bengal @BJP4India @narendramodi @J...</td>\n",
       "      <td>NOT</td>\n",
       "      <td>NONE</td>\n",
       "    </tr>\n",
       "    <tr>\n",
       "      <th>3</th>\n",
       "      <td>3390</td>\n",
       "      <td>60c5d6bf5659ea5e55def419</td>\n",
       "      <td>@krtoprak_yigit Soldier of Japan Who has dick ...</td>\n",
       "      <td>HOF</td>\n",
       "      <td>OFFN</td>\n",
       "    </tr>\n",
       "    <tr>\n",
       "      <th>4</th>\n",
       "      <td>4626</td>\n",
       "      <td>60c5d6bf5659ea5e55def7fa</td>\n",
       "      <td>@blueheartedly You'd be better off asking who ...</td>\n",
       "      <td>HOF</td>\n",
       "      <td>OFFN</td>\n",
       "    </tr>\n",
       "    <tr>\n",
       "      <th>...</th>\n",
       "      <td>...</td>\n",
       "      <td>...</td>\n",
       "      <td>...</td>\n",
       "      <td>...</td>\n",
       "      <td>...</td>\n",
       "    </tr>\n",
       "    <tr>\n",
       "      <th>3838</th>\n",
       "      <td>1661</td>\n",
       "      <td>60c5d6bf5659ea5e55defd57</td>\n",
       "      <td>@BBCNews Let the dog deal with the wanker once...</td>\n",
       "      <td>HOF</td>\n",
       "      <td>PRFN</td>\n",
       "    </tr>\n",
       "    <tr>\n",
       "      <th>3839</th>\n",
       "      <td>194</td>\n",
       "      <td>60c5d6bf5659ea5e55def185</td>\n",
       "      <td>India has suffered a lot. That Chinese bastard...</td>\n",
       "      <td>HOF</td>\n",
       "      <td>HATE</td>\n",
       "    </tr>\n",
       "    <tr>\n",
       "      <th>3840</th>\n",
       "      <td>3988</td>\n",
       "      <td>60c5d6bf5659ea5e55def78c</td>\n",
       "      <td>People didn't give 300+ seats majority to BJP ...</td>\n",
       "      <td>HOF</td>\n",
       "      <td>HATE</td>\n",
       "    </tr>\n",
       "    <tr>\n",
       "      <th>3841</th>\n",
       "      <td>4212</td>\n",
       "      <td>60c5d6bf5659ea5e55defb04</td>\n",
       "      <td>@KanganaTeam This is such a vile, xenophobic a...</td>\n",
       "      <td>HOF</td>\n",
       "      <td>PRFN</td>\n",
       "    </tr>\n",
       "    <tr>\n",
       "      <th>3842</th>\n",
       "      <td>1512</td>\n",
       "      <td>60c5d6bf5659ea5e55defb8a</td>\n",
       "      <td>@30iPpgStmILw0SI @ChinaDaily #ChineseVirus #Wu...</td>\n",
       "      <td>NOT</td>\n",
       "      <td>NONE</td>\n",
       "    </tr>\n",
       "  </tbody>\n",
       "</table>\n",
       "<p>3843 rows × 5 columns</p>\n",
       "</div>"
      ],
      "text/plain": [
       "      Unnamed: 0                       _id  ... task_1 task_2\n",
       "0           4986  60c5d6bf5659ea5e55defa2c  ...    HOF   PRFN\n",
       "1           3394  60c5d6bf5659ea5e55def461  ...    HOF   OFFN\n",
       "2           1310  60c5d6bf5659ea5e55defaad  ...    NOT   NONE\n",
       "3           3390  60c5d6bf5659ea5e55def419  ...    HOF   OFFN\n",
       "4           4626  60c5d6bf5659ea5e55def7fa  ...    HOF   OFFN\n",
       "...          ...                       ...  ...    ...    ...\n",
       "3838        1661  60c5d6bf5659ea5e55defd57  ...    HOF   PRFN\n",
       "3839         194  60c5d6bf5659ea5e55def185  ...    HOF   HATE\n",
       "3840        3988  60c5d6bf5659ea5e55def78c  ...    HOF   HATE\n",
       "3841        4212  60c5d6bf5659ea5e55defb04  ...    HOF   PRFN\n",
       "3842        1512  60c5d6bf5659ea5e55defb8a  ...    NOT   NONE\n",
       "\n",
       "[3843 rows x 5 columns]"
      ]
     },
     "execution_count": 121,
     "metadata": {},
     "output_type": "execute_result"
    }
   ],
   "source": [
    "hasoc_train"
   ]
  },
  {
   "cell_type": "code",
   "execution_count": null,
   "metadata": {
    "colab": {
     "base_uri": "https://localhost:8080/",
     "height": 423
    },
    "executionInfo": {
     "elapsed": 408,
     "status": "ok",
     "timestamp": 1637575985570,
     "user": {
      "displayName": "Rohan avireddy",
      "photoUrl": "https://lh3.googleusercontent.com/a-/AOh14GgDeaM2VSkZlXpIHSVTwhK0x_dzKWLzWzLXidXd=s64",
      "userId": "16070926612337581285"
     },
     "user_tz": -330
    },
    "id": "87Qctt0iImVM",
    "outputId": "cebf1245-9335-496b-cbc9-b69c87177c15"
   },
   "outputs": [
    {
     "data": {
      "text/html": [
       "<div>\n",
       "<style scoped>\n",
       "    .dataframe tbody tr th:only-of-type {\n",
       "        vertical-align: middle;\n",
       "    }\n",
       "\n",
       "    .dataframe tbody tr th {\n",
       "        vertical-align: top;\n",
       "    }\n",
       "\n",
       "    .dataframe thead th {\n",
       "        text-align: right;\n",
       "    }\n",
       "</style>\n",
       "<table border=\"1\" class=\"dataframe\">\n",
       "  <thead>\n",
       "    <tr style=\"text-align: right;\">\n",
       "      <th></th>\n",
       "      <th>_id</th>\n",
       "      <th>text</th>\n",
       "      <th>task_1</th>\n",
       "    </tr>\n",
       "  </thead>\n",
       "  <tbody>\n",
       "    <tr>\n",
       "      <th>0</th>\n",
       "      <td>60c5d6bf5659ea5e55defa2c</td>\n",
       "      <td>@wealth if you made it through this &amp;amp;&amp;amp;...</td>\n",
       "      <td>HOF</td>\n",
       "    </tr>\n",
       "    <tr>\n",
       "      <th>1</th>\n",
       "      <td>60c5d6bf5659ea5e55def461</td>\n",
       "      <td>Technically that's still turning back the cloc...</td>\n",
       "      <td>HOF</td>\n",
       "    </tr>\n",
       "    <tr>\n",
       "      <th>2</th>\n",
       "      <td>60c5d6bf5659ea5e55defaad</td>\n",
       "      <td>@VMBJP @BJP4Bengal @BJP4India @narendramodi @J...</td>\n",
       "      <td>NOT</td>\n",
       "    </tr>\n",
       "    <tr>\n",
       "      <th>3</th>\n",
       "      <td>60c5d6bf5659ea5e55def419</td>\n",
       "      <td>@krtoprak_yigit Soldier of Japan Who has dick ...</td>\n",
       "      <td>HOF</td>\n",
       "    </tr>\n",
       "    <tr>\n",
       "      <th>4</th>\n",
       "      <td>60c5d6bf5659ea5e55def7fa</td>\n",
       "      <td>@blueheartedly You'd be better off asking who ...</td>\n",
       "      <td>HOF</td>\n",
       "    </tr>\n",
       "    <tr>\n",
       "      <th>...</th>\n",
       "      <td>...</td>\n",
       "      <td>...</td>\n",
       "      <td>...</td>\n",
       "    </tr>\n",
       "    <tr>\n",
       "      <th>35800</th>\n",
       "      <td>31958</td>\n",
       "      <td>ate @user isz that youuu?ÃÂ°ÃÂÃÂÃÂÃÂ°Ã...</td>\n",
       "      <td>NOT</td>\n",
       "    </tr>\n",
       "    <tr>\n",
       "      <th>35801</th>\n",
       "      <td>31959</td>\n",
       "      <td>to see nina turner on the airwaves trying to w...</td>\n",
       "      <td>NOT</td>\n",
       "    </tr>\n",
       "    <tr>\n",
       "      <th>35802</th>\n",
       "      <td>31960</td>\n",
       "      <td>listening to sad songs on a monday morning otw...</td>\n",
       "      <td>NOT</td>\n",
       "    </tr>\n",
       "    <tr>\n",
       "      <th>35803</th>\n",
       "      <td>31961</td>\n",
       "      <td>@user #sikh #temple vandalised in in #calgary,...</td>\n",
       "      <td>HOF</td>\n",
       "    </tr>\n",
       "    <tr>\n",
       "      <th>35804</th>\n",
       "      <td>31962</td>\n",
       "      <td>thank you @user for you follow</td>\n",
       "      <td>NOT</td>\n",
       "    </tr>\n",
       "  </tbody>\n",
       "</table>\n",
       "<p>35805 rows × 3 columns</p>\n",
       "</div>"
      ],
      "text/plain": [
       "                            _id  ... task_1\n",
       "0      60c5d6bf5659ea5e55defa2c  ...    HOF\n",
       "1      60c5d6bf5659ea5e55def461  ...    HOF\n",
       "2      60c5d6bf5659ea5e55defaad  ...    NOT\n",
       "3      60c5d6bf5659ea5e55def419  ...    HOF\n",
       "4      60c5d6bf5659ea5e55def7fa  ...    HOF\n",
       "...                         ...  ...    ...\n",
       "35800                     31958  ...    NOT\n",
       "35801                     31959  ...    NOT\n",
       "35802                     31960  ...    NOT\n",
       "35803                     31961  ...    HOF\n",
       "35804                     31962  ...    NOT\n",
       "\n",
       "[35805 rows x 3 columns]"
      ]
     },
     "execution_count": 14,
     "metadata": {},
     "output_type": "execute_result"
    }
   ],
   "source": [
    "combined_train"
   ]
  },
  {
   "cell_type": "markdown",
   "metadata": {
    "id": "QzLRortCQGsW"
   },
   "source": [
    "## binary test data"
   ]
  },
  {
   "cell_type": "code",
   "execution_count": null,
   "metadata": {
    "id": "55O_akyB6a9s"
   },
   "outputs": [],
   "source": [
    "hasoc_test[\"task_1\"]=hasoc_test_bin[\"label\"]"
   ]
  },
  {
   "cell_type": "markdown",
   "metadata": {
    "id": "wDSq6s8qWifo"
   },
   "source": [
    "## multiclass test data"
   ]
  },
  {
   "cell_type": "code",
   "execution_count": null,
   "metadata": {
    "id": "hZBEz3DUVLgZ"
   },
   "outputs": [],
   "source": [
    "hasoc_test[\"task_2\"]=hasoc_test_mul[\"label\"]"
   ]
  },
  {
   "cell_type": "code",
   "execution_count": null,
   "metadata": {
    "colab": {
     "base_uri": "https://localhost:8080/",
     "height": 206
    },
    "executionInfo": {
     "elapsed": 7,
     "status": "ok",
     "timestamp": 1637580304615,
     "user": {
      "displayName": "Rohan avireddy",
      "photoUrl": "https://lh3.googleusercontent.com/a-/AOh14GgDeaM2VSkZlXpIHSVTwhK0x_dzKWLzWzLXidXd=s64",
      "userId": "16070926612337581285"
     },
     "user_tz": -330
    },
    "id": "5s16pmvjpopL",
    "outputId": "27700e35-40ab-4b1e-d875-7b83c54703cc"
   },
   "outputs": [
    {
     "data": {
      "text/html": [
       "<div>\n",
       "<style scoped>\n",
       "    .dataframe tbody tr th:only-of-type {\n",
       "        vertical-align: middle;\n",
       "    }\n",
       "\n",
       "    .dataframe tbody tr th {\n",
       "        vertical-align: top;\n",
       "    }\n",
       "\n",
       "    .dataframe thead th {\n",
       "        text-align: right;\n",
       "    }\n",
       "</style>\n",
       "<table border=\"1\" class=\"dataframe\">\n",
       "  <thead>\n",
       "    <tr style=\"text-align: right;\">\n",
       "      <th></th>\n",
       "      <th>_id</th>\n",
       "      <th>text</th>\n",
       "      <th>task_2</th>\n",
       "      <th>task_1</th>\n",
       "    </tr>\n",
       "  </thead>\n",
       "  <tbody>\n",
       "    <tr>\n",
       "      <th>0</th>\n",
       "      <td>60c5d6bf5659ea5e55deffcb</td>\n",
       "      <td>Fewer people coming in for vaccinations. So sa...</td>\n",
       "      <td>NONE</td>\n",
       "      <td>NOT</td>\n",
       "    </tr>\n",
       "    <tr>\n",
       "      <th>1</th>\n",
       "      <td>60c5d6bf5659ea5e55df028c</td>\n",
       "      <td>@MattHancock This may all be true. But... What...</td>\n",
       "      <td>PRFN</td>\n",
       "      <td>HOF</td>\n",
       "    </tr>\n",
       "    <tr>\n",
       "      <th>2</th>\n",
       "      <td>60c5d6bf5659ea5e55def377</td>\n",
       "      <td>@Layla_EFC I’ve unfollowed him the wanker</td>\n",
       "      <td>PRFN</td>\n",
       "      <td>HOF</td>\n",
       "    </tr>\n",
       "    <tr>\n",
       "      <th>3</th>\n",
       "      <td>60c5d6bf5659ea5e55def4c7</td>\n",
       "      <td>You guys are losing it all over the world. The...</td>\n",
       "      <td>NONE</td>\n",
       "      <td>NOT</td>\n",
       "    </tr>\n",
       "    <tr>\n",
       "      <th>4</th>\n",
       "      <td>60c5d6bf5659ea5e55df01a6</td>\n",
       "      <td>And thus death laughs... It is sad merriment, ...</td>\n",
       "      <td>NONE</td>\n",
       "      <td>NOT</td>\n",
       "    </tr>\n",
       "  </tbody>\n",
       "</table>\n",
       "</div>"
      ],
      "text/plain": [
       "                        _id  ... task_1\n",
       "0  60c5d6bf5659ea5e55deffcb  ...    NOT\n",
       "1  60c5d6bf5659ea5e55df028c  ...    HOF\n",
       "2  60c5d6bf5659ea5e55def377  ...    HOF\n",
       "3  60c5d6bf5659ea5e55def4c7  ...    NOT\n",
       "4  60c5d6bf5659ea5e55df01a6  ...    NOT\n",
       "\n",
       "[5 rows x 4 columns]"
      ]
     },
     "execution_count": 124,
     "metadata": {},
     "output_type": "execute_result"
    }
   ],
   "source": [
    "hasoc_test.head()"
   ]
  },
  {
   "cell_type": "markdown",
   "metadata": {
    "id": "t-LeYQUnDqmH"
   },
   "source": [
    "##PREPROCESSING AND CLEANING\n",
    "####1.LOWER CASE CONVERTING\n",
    "####2.REMOVING BAD SYMBOLS\n",
    "####3.STOP WORD REMOVER\n",
    "####4.PUNCTUATION REMOVER\n",
    "####5.TOKENIZATION\n",
    "####6.LEMMATIZATION\n",
    "####7.REMOVE USERNAMES \n"
   ]
  },
  {
   "cell_type": "code",
   "execution_count": null,
   "metadata": {
    "id": "J396twrLF-xO"
   },
   "outputs": [],
   "source": [
    "lemmatizer = WordNetLemmatizer()\n",
    "stop_words= set(['br', 'the', 'i', 'me', 'my', 'myself', 'we', 'our', 'ours', 'ourselves', 'you', \"you're\", \"you've\",\\\n",
    "            \"you'll\", \"you'd\", 'your', 'yours', 'yourself', 'yourselves', 'he', 'him', 'his', 'himself', \\\n",
    "            'she', \"she's\", 'her', 'hers', 'herself', 'it', \"it's\", 'its', 'itself', 'they', 'them', 'their',\\\n",
    "            'theirs', 'themselves', 'what', 'which', 'who', 'whom', 'this', 'that', \"that'll\", 'these', 'those', \\\n",
    "            'am', 'is', 'are', 'was', 'were', 'be', 'been', 'being', 'have', 'has', 'had', 'having', 'do', 'does', \\\n",
    "            'did', 'doing', 'a', 'an', 'the', 'and', 'but', 'if', 'or', 'because', 'as', 'until', 'while', 'of', \\\n",
    "            'at', 'by', 'for', 'with', 'about', 'against', 'between', 'into', 'through', 'during', 'before', 'after',\\\n",
    "            'above', 'below', 'to', 'from', 'up', 'down', 'in', 'out', 'on', 'off', 'over', 'under', 'again', 'further',\\\n",
    "            'then', 'once', 'here', 'there', 'when', 'where', 'why', 'how', 'all', 'any', 'both', 'each', 'few', 'more',\\\n",
    "            'most', 'other', 'some', 'such', 'only', 'own', 'same', 'so', 'than', 'too', 'very', \\\n",
    "            's', 't', 'can', 'will', 'just', 'don', \"don't\", 'should', \"should've\", 'now', 'd', 'll', 'm', 'o', 're', \\\n",
    "            've', 'y', 'ain', 'aren', \"aren't\", 'couldn', \"couldn't\", 'didn', \"didn't\", 'doesn', \"doesn't\", 'hadn',\\\n",
    "            \"hadn't\", 'hasn', \"hasn't\", 'haven', \"haven't\", 'isn', \"isn't\", 'ma', 'mightn', \"mightn't\", 'mustn',\\\n",
    "            \"mustn't\", 'needn', \"needn't\", 'shan', \"shan't\", 'shouldn', \"shouldn't\", 'wasn', \"wasn't\", 'weren', \"weren't\", \\\n",
    "            'won', \"won't\", 'wouldn', \"wouldn't\",\"not\"])\n"
   ]
  },
  {
   "cell_type": "code",
   "execution_count": null,
   "metadata": {
    "id": "TWn8E9ixDo8O"
   },
   "outputs": [],
   "source": [
    "def preprocess(tweets):\n",
    "  \n",
    "  tweets.encode('ascii', 'ignore').decode('ascii') #remove emojis\n",
    "  tweets=tweets.lower()                   #convert to lower case\n",
    "  tweets = re.sub(r\"http\\S+\", \" \", tweets) #remove urls\n",
    "  l=tweets.split(\" \")\n",
    "  for n,i in enumerate(l):\n",
    "    if '@' in i:\n",
    "      l[n]=\"\"\n",
    "  \n",
    "  tweets=\" \".join(l)\n",
    "  tweets= re.sub('[^A-Za-z]+',' ',tweets) #remove bad character\n",
    "  tweets = [word for word in tweets.split(\" \") if not word in stop_words] # removing stop words\n",
    "  tweets= [lemmatizer.lemmatize(token, \"v\") for token in tweets] #Lemmatization\n",
    "  tweets=\" \".join(tweets) \n",
    "  return tweets \n",
    "def decontract(text):\n",
    "    text = re.sub(r\"won\\'t\", \"will not\", text)\n",
    "    text = re.sub(r\"can\\'t\", \"can not\", text)\n",
    "    text = re.sub(r\"n\\'t\", \" not\", text)\n",
    "    text = re.sub(r\"\\'re\", \" are\", text)\n",
    "    text = re.sub(r\"\\'s\", \" is\", text)\n",
    "    text = re.sub(r\"\\'d\", \" would\", text)\n",
    "    text = re.sub(r\"\\'ll\", \" will\", text)\n",
    "    text = re.sub(r\"\\'t\", \" not\", text)\n",
    "    text = re.sub(r\"\\'ve\", \" have\", text)\n",
    "    text = re.sub(r\"\\'m\", \" am\", text)\n",
    "    return text\n"
   ]
  },
  {
   "cell_type": "markdown",
   "metadata": {
    "id": "DvIJqSnAPt16"
   },
   "source": [
    "## PREPROCESSING THE TRAIN DATA"
   ]
  },
  {
   "cell_type": "markdown",
   "metadata": {
    "id": "UKjG36j6SIgC"
   },
   "source": [
    "WHILE USING ONLY HASOC DATA"
   ]
  },
  {
   "cell_type": "code",
   "execution_count": null,
   "metadata": {
    "id": "FMj2e8WIGl22"
   },
   "outputs": [],
   "source": [
    "hasoc_train[\"text\"]=hasoc_train[\"text\"].apply(lambda x:decontract(x))\n",
    "hasoc_train[\"text\"]=hasoc_train[\"text\"].apply(lambda x:preprocess(x))"
   ]
  },
  {
   "cell_type": "code",
   "execution_count": null,
   "metadata": {
    "id": "-YccOQW3DFxB"
   },
   "outputs": [],
   "source": [
    "train_df, val_df = train_test_split(hasoc_train, test_size = 0.2, random_state = 42)\n",
    "train_tweet=train_df.text\n",
    "val_tweet=val_df.text"
   ]
  },
  {
   "cell_type": "markdown",
   "metadata": {
    "id": "v05uAduqSIHv"
   },
   "source": [
    "WHILE USING COMBINED DATA"
   ]
  },
  {
   "cell_type": "code",
   "execution_count": null,
   "metadata": {
    "id": "hSSqqo2ZSHdq"
   },
   "outputs": [],
   "source": [
    "combined_train[\"text\"]=combined_train[\"text\"].apply(lambda x:decontract(x))\n",
    "combined_train[\"text\"]=combined_train[\"text\"].apply(lambda x:preprocess(x))"
   ]
  },
  {
   "cell_type": "code",
   "execution_count": null,
   "metadata": {
    "id": "ccyzdJdMScw5"
   },
   "outputs": [],
   "source": [
    "train_df, val_df = train_test_split(combined_train, test_size = 0.2, random_state = 42)\n",
    "train_tweet=train_df.text\n",
    "val_tweet=val_df.text"
   ]
  },
  {
   "cell_type": "markdown",
   "metadata": {
    "id": "eEMC-ElaPw98"
   },
   "source": [
    "## PREPROCESSING THE TEST DATA"
   ]
  },
  {
   "cell_type": "code",
   "execution_count": null,
   "metadata": {
    "id": "zgElofQnPzB8"
   },
   "outputs": [],
   "source": [
    "hasoc_test[\"text\"]=hasoc_test[\"text\"].apply(lambda x:decontract(x))\n",
    "hasoc_test[\"text\"]=hasoc_test[\"text\"].apply(lambda x:preprocess(x))"
   ]
  },
  {
   "cell_type": "code",
   "execution_count": null,
   "metadata": {
    "id": "F9jDo-dXQj_Y"
   },
   "outputs": [],
   "source": [
    "test_tweet=hasoc_test.text"
   ]
  },
  {
   "cell_type": "markdown",
   "metadata": {
    "id": "plBHT21fQNLp"
   },
   "source": [
    "### on evaluation data"
   ]
  },
  {
   "cell_type": "code",
   "execution_count": null,
   "metadata": {
    "id": "sPHQ029vUmdy"
   },
   "outputs": [],
   "source": [
    "le=LabelEncoder()"
   ]
  },
  {
   "cell_type": "markdown",
   "metadata": {
    "id": "xQUtoaz0Yqks"
   },
   "source": [
    "for binary data"
   ]
  },
  {
   "cell_type": "code",
   "execution_count": null,
   "metadata": {
    "id": "ZRFi0201q4K-"
   },
   "outputs": [],
   "source": [
    "train_df[\"task_1\"] = le.fit_transform(train_df[\"task_1\"])\n",
    "val_df[\"task_1\"] = le.fit_transform(val_df[\"task_1\"])"
   ]
  },
  {
   "cell_type": "markdown",
   "metadata": {
    "id": "qjmtdAn7YsmV"
   },
   "source": [
    "for multiclass data"
   ]
  },
  {
   "cell_type": "code",
   "execution_count": null,
   "metadata": {
    "id": "f5D6iIImWz_t"
   },
   "outputs": [],
   "source": [
    "train_df[\"task_2\"] = le.fit_transform(train_df[\"task_2\"])\n",
    "val_df[\"task_2\"] = le.fit_transform(val_df[\"task_2\"])"
   ]
  },
  {
   "cell_type": "code",
   "execution_count": null,
   "metadata": {
    "id": "tmtrTbKeunud"
   },
   "outputs": [],
   "source": [
    "full_train_tweet=hasoc_train[\"text\"]"
   ]
  },
  {
   "cell_type": "code",
   "execution_count": null,
   "metadata": {
    "id": "I-jlSaPINo__"
   },
   "outputs": [],
   "source": [
    "train_tweet=train_df[\"text\"]"
   ]
  },
  {
   "cell_type": "code",
   "execution_count": null,
   "metadata": {
    "id": "WS_ml2FYtbSC"
   },
   "outputs": [],
   "source": [
    "val_tweet=val_df[\"text\"]"
   ]
  },
  {
   "cell_type": "markdown",
   "metadata": {
    "id": "6APLKlopQSAr"
   },
   "source": [
    "### on test data"
   ]
  },
  {
   "cell_type": "markdown",
   "metadata": {
    "id": "yyF0N--CYGMZ"
   },
   "source": [
    "for binary data"
   ]
  },
  {
   "cell_type": "code",
   "execution_count": null,
   "metadata": {
    "id": "Wy5YWb0-YEz9"
   },
   "outputs": [],
   "source": [
    "hasoc_test[\"task_1\"]=le.fit_transform(hasoc_test[\"task_1\"])"
   ]
  },
  {
   "cell_type": "markdown",
   "metadata": {
    "id": "uX_jhIKlYGuM"
   },
   "source": [
    "for multiclass data"
   ]
  },
  {
   "cell_type": "code",
   "execution_count": null,
   "metadata": {
    "id": "iRfMPIULYFsB"
   },
   "outputs": [],
   "source": [
    "hasoc_test[\"task_2\"]=le.fit_transform(hasoc_test[\"task_2\"])"
   ]
  },
  {
   "cell_type": "markdown",
   "metadata": {
    "id": "0c2NqoXso9db"
   },
   "source": [
    "##VECTORIZING THE DATA"
   ]
  },
  {
   "cell_type": "markdown",
   "metadata": {
    "id": "T42XZf4SJbyN"
   },
   "source": [
    "USING TFIDF VECTORIZATION for ngrams"
   ]
  },
  {
   "cell_type": "code",
   "execution_count": null,
   "metadata": {
    "id": "5nmy76jzKMj3"
   },
   "outputs": [],
   "source": [
    "vectorizer1 = TfidfVectorizer(ngram_range = (1,1)) #ONLY UNIGRAMS , \n",
    "#vectorizer1 = TfidfVectorizer(ngram_range = (2,2)) #ONLY BIGRAM , \n",
    "#vectorizer1 = TfidfVectorizer(ngram_range = (1,2)) #UNI + BI , \n",
    "\n",
    "full_train_vectors=vectorizer1.fit_transform(full_train_tweet)\n",
    "train_vectors=vectorizer1.transform(train_tweet)\n",
    "val_vectors=vectorizer1.transform(val_tweet)"
   ]
  },
  {
   "cell_type": "code",
   "execution_count": null,
   "metadata": {
    "id": "zC17ZnweLhgd"
   },
   "outputs": [],
   "source": [
    "test_vectors=vectorizer1.transform(test_tweet)"
   ]
  },
  {
   "cell_type": "code",
   "execution_count": null,
   "metadata": {
    "colab": {
     "base_uri": "https://localhost:8080/"
    },
    "executionInfo": {
     "elapsed": 370,
     "status": "ok",
     "timestamp": 1637583454784,
     "user": {
      "displayName": "Rohan avireddy",
      "photoUrl": "https://lh3.googleusercontent.com/a-/AOh14GgDeaM2VSkZlXpIHSVTwhK0x_dzKWLzWzLXidXd=s64",
      "userId": "16070926612337581285"
     },
     "user_tz": -330
    },
    "id": "6rfvMYitlGOl",
    "outputId": "7b834a63-580d-4de9-ef36-993de7bb7d18"
   },
   "outputs": [
    {
     "data": {
      "text/plain": [
       "<3074x8856 sparse matrix of type '<class 'numpy.float64'>'\n",
       "\twith 39804 stored elements in Compressed Sparse Row format>"
      ]
     },
     "execution_count": 146,
     "metadata": {},
     "output_type": "execute_result"
    }
   ],
   "source": [
    "train_vectors"
   ]
  },
  {
   "cell_type": "markdown",
   "metadata": {
    "id": "56NnH65lXNVS"
   },
   "source": [
    "## for binary"
   ]
  },
  {
   "cell_type": "code",
   "execution_count": null,
   "metadata": {
    "id": "9NjvkQzovXj3"
   },
   "outputs": [],
   "source": [
    "t1=train_df[\"task_1\"]\n",
    "t2=val_df[\"task_1\"]"
   ]
  },
  {
   "cell_type": "code",
   "execution_count": null,
   "metadata": {
    "id": "EF-ssIYERKJM"
   },
   "outputs": [],
   "source": [
    "t3=hasoc_test[\"task_1\"]"
   ]
  },
  {
   "cell_type": "markdown",
   "metadata": {
    "id": "Hcg2jM1rXLAi"
   },
   "source": [
    "## for multiclass"
   ]
  },
  {
   "cell_type": "code",
   "execution_count": null,
   "metadata": {
    "id": "Ks-0KGwBW_9D"
   },
   "outputs": [],
   "source": [
    "t4=train_df[\"task_2\"]\n",
    "t5=val_df[\"task_2\"]\n",
    "t6=hasoc_test[\"task_2\"]"
   ]
  },
  {
   "cell_type": "code",
   "execution_count": null,
   "metadata": {
    "id": "AEAP7s2SE4Xp"
   },
   "outputs": [],
   "source": [
    "from sklearn.metrics import classification_report"
   ]
  },
  {
   "cell_type": "markdown",
   "metadata": {
    "id": "PBhq2Q3kkfyS"
   },
   "source": [
    "##using OPTIMUM KERNEL AND PARAMETERS FOR SVM"
   ]
  },
  {
   "cell_type": "code",
   "execution_count": null,
   "metadata": {
    "id": "56DEuMo6uwtV"
   },
   "outputs": [],
   "source": [
    "kernels = ['Polynomial', 'RBF', 'Sigmoid','Linear']#A function which returns the corresponding SVC model\n",
    "def getClassifier(ktype):\n",
    "    if ktype == 0:\n",
    "        # Polynomial kernal\n",
    "        return SVC(kernel='poly', degree=8, gamma=\"auto\")\n",
    "    elif ktype == 1:\n",
    "        # Radial Basis Function kernal\n",
    "        return SVC(kernel='rbf', gamma=\"auto\")\n",
    "    elif ktype == 2:\n",
    "        # Sigmoid kernal\n",
    "        return SVC(kernel='sigmoid', gamma=\"auto\")\n",
    "    elif ktype == 3:\n",
    "        # Linear kernal\n",
    "        return SVC(kernel='linear', gamma=\"auto\")"
   ]
  },
  {
   "cell_type": "markdown",
   "metadata": {
    "id": "IOZdbrOhcAIK"
   },
   "source": [
    "# FOR UNIGRAM ONLY"
   ]
  },
  {
   "cell_type": "markdown",
   "metadata": {
    "id": "WukdACRdRjc9"
   },
   "source": [
    "## FOR BINARY CLASSIFICATION"
   ]
  },
  {
   "cell_type": "markdown",
   "metadata": {
    "id": "7Q6iEGM2Ovnn"
   },
   "source": [
    "### PERFORMANCE ON ONLY HASOC DATA "
   ]
  },
  {
   "cell_type": "markdown",
   "metadata": {
    "id": "BxI7-7nlO04O"
   },
   "source": [
    "VALIDATION 80:20 SPLIT"
   ]
  },
  {
   "cell_type": "code",
   "execution_count": null,
   "metadata": {
    "colab": {
     "base_uri": "https://localhost:8080/"
    },
    "executionInfo": {
     "elapsed": 5789,
     "status": "ok",
     "timestamp": 1637577411446,
     "user": {
      "displayName": "Rohan avireddy",
      "photoUrl": "https://lh3.googleusercontent.com/a-/AOh14GgDeaM2VSkZlXpIHSVTwhK0x_dzKWLzWzLXidXd=s64",
      "userId": "16070926612337581285"
     },
     "user_tz": -330
    },
    "id": "bqPk2xCGu37R",
    "outputId": "a97383e1-266e-42fc-da16-5471f7388fc7"
   },
   "outputs": [
    {
     "name": "stdout",
     "output_type": "stream",
     "text": [
      "Evaluation: Polynomial kernel\n",
      "              precision    recall  f1-score   support\n",
      "\n",
      "           0       0.00      0.00      0.00       240\n",
      "           1       0.69      1.00      0.82       529\n",
      "\n",
      "    accuracy                           0.69       769\n",
      "   macro avg       0.34      0.50      0.41       769\n",
      "weighted avg       0.47      0.69      0.56       769\n",
      "\n"
     ]
    },
    {
     "name": "stderr",
     "output_type": "stream",
     "text": [
      "/usr/local/lib/python3.7/dist-packages/sklearn/metrics/_classification.py:1308: UndefinedMetricWarning: Precision and F-score are ill-defined and being set to 0.0 in labels with no predicted samples. Use `zero_division` parameter to control this behavior.\n",
      "  _warn_prf(average, modifier, msg_start, len(result))\n",
      "/usr/local/lib/python3.7/dist-packages/sklearn/metrics/_classification.py:1308: UndefinedMetricWarning: Precision and F-score are ill-defined and being set to 0.0 in labels with no predicted samples. Use `zero_division` parameter to control this behavior.\n",
      "  _warn_prf(average, modifier, msg_start, len(result))\n",
      "/usr/local/lib/python3.7/dist-packages/sklearn/metrics/_classification.py:1308: UndefinedMetricWarning: Precision and F-score are ill-defined and being set to 0.0 in labels with no predicted samples. Use `zero_division` parameter to control this behavior.\n",
      "  _warn_prf(average, modifier, msg_start, len(result))\n"
     ]
    },
    {
     "name": "stdout",
     "output_type": "stream",
     "text": [
      "Evaluation: RBF kernel\n",
      "              precision    recall  f1-score   support\n",
      "\n",
      "           0       0.00      0.00      0.00       240\n",
      "           1       0.69      1.00      0.82       529\n",
      "\n",
      "    accuracy                           0.69       769\n",
      "   macro avg       0.34      0.50      0.41       769\n",
      "weighted avg       0.47      0.69      0.56       769\n",
      "\n"
     ]
    },
    {
     "name": "stderr",
     "output_type": "stream",
     "text": [
      "/usr/local/lib/python3.7/dist-packages/sklearn/metrics/_classification.py:1308: UndefinedMetricWarning: Precision and F-score are ill-defined and being set to 0.0 in labels with no predicted samples. Use `zero_division` parameter to control this behavior.\n",
      "  _warn_prf(average, modifier, msg_start, len(result))\n",
      "/usr/local/lib/python3.7/dist-packages/sklearn/metrics/_classification.py:1308: UndefinedMetricWarning: Precision and F-score are ill-defined and being set to 0.0 in labels with no predicted samples. Use `zero_division` parameter to control this behavior.\n",
      "  _warn_prf(average, modifier, msg_start, len(result))\n",
      "/usr/local/lib/python3.7/dist-packages/sklearn/metrics/_classification.py:1308: UndefinedMetricWarning: Precision and F-score are ill-defined and being set to 0.0 in labels with no predicted samples. Use `zero_division` parameter to control this behavior.\n",
      "  _warn_prf(average, modifier, msg_start, len(result))\n"
     ]
    },
    {
     "name": "stdout",
     "output_type": "stream",
     "text": [
      "Evaluation: Sigmoid kernel\n",
      "              precision    recall  f1-score   support\n",
      "\n",
      "           0       0.00      0.00      0.00       240\n",
      "           1       0.69      1.00      0.82       529\n",
      "\n",
      "    accuracy                           0.69       769\n",
      "   macro avg       0.34      0.50      0.41       769\n",
      "weighted avg       0.47      0.69      0.56       769\n",
      "\n"
     ]
    },
    {
     "name": "stderr",
     "output_type": "stream",
     "text": [
      "/usr/local/lib/python3.7/dist-packages/sklearn/metrics/_classification.py:1308: UndefinedMetricWarning: Precision and F-score are ill-defined and being set to 0.0 in labels with no predicted samples. Use `zero_division` parameter to control this behavior.\n",
      "  _warn_prf(average, modifier, msg_start, len(result))\n",
      "/usr/local/lib/python3.7/dist-packages/sklearn/metrics/_classification.py:1308: UndefinedMetricWarning: Precision and F-score are ill-defined and being set to 0.0 in labels with no predicted samples. Use `zero_division` parameter to control this behavior.\n",
      "  _warn_prf(average, modifier, msg_start, len(result))\n",
      "/usr/local/lib/python3.7/dist-packages/sklearn/metrics/_classification.py:1308: UndefinedMetricWarning: Precision and F-score are ill-defined and being set to 0.0 in labels with no predicted samples. Use `zero_division` parameter to control this behavior.\n",
      "  _warn_prf(average, modifier, msg_start, len(result))\n"
     ]
    },
    {
     "name": "stdout",
     "output_type": "stream",
     "text": [
      "Evaluation: Linear kernel\n",
      "              precision    recall  f1-score   support\n",
      "\n",
      "           0       0.72      0.53      0.61       240\n",
      "           1       0.81      0.91      0.86       529\n",
      "\n",
      "    accuracy                           0.79       769\n",
      "   macro avg       0.76      0.72      0.73       769\n",
      "weighted avg       0.78      0.79      0.78       769\n",
      "\n"
     ]
    }
   ],
   "source": [
    "for i in range(4):\n",
    "    # Separate data into test and training sets\n",
    "    svclassifier = getClassifier(i) \n",
    "    svclassifier.fit(train_vectors,t1)# Make prediction\n",
    "    y_pred = svclassifier.predict(val_vectors)# Evaluate our model\n",
    "    print(\"Evaluation:\", kernels[i], \"kernel\")\n",
    "    print(classification_report(t2,y_pred))"
   ]
  },
  {
   "cell_type": "markdown",
   "metadata": {
    "id": "PkMsyOFxOJs2"
   },
   "source": [
    "performance on test data"
   ]
  },
  {
   "cell_type": "code",
   "execution_count": null,
   "metadata": {
    "colab": {
     "base_uri": "https://localhost:8080/"
    },
    "executionInfo": {
     "elapsed": 6661,
     "status": "ok",
     "timestamp": 1637578295597,
     "user": {
      "displayName": "Rohan avireddy",
      "photoUrl": "https://lh3.googleusercontent.com/a-/AOh14GgDeaM2VSkZlXpIHSVTwhK0x_dzKWLzWzLXidXd=s64",
      "userId": "16070926612337581285"
     },
     "user_tz": -330
    },
    "id": "BBYWTawsOMhF",
    "outputId": "cfa4ece4-db5f-4839-d7a9-1e83f4024d73"
   },
   "outputs": [
    {
     "name": "stdout",
     "output_type": "stream",
     "text": [
      "Evaluation: Polynomial kernel\n",
      "              precision    recall  f1-score   support\n",
      "\n",
      "           0       0.00      0.00      0.00       483\n",
      "           1       0.62      1.00      0.77       798\n",
      "\n",
      "    accuracy                           0.62      1281\n",
      "   macro avg       0.31      0.50      0.38      1281\n",
      "weighted avg       0.39      0.62      0.48      1281\n",
      "\n"
     ]
    },
    {
     "name": "stderr",
     "output_type": "stream",
     "text": [
      "/usr/local/lib/python3.7/dist-packages/sklearn/metrics/_classification.py:1308: UndefinedMetricWarning: Precision and F-score are ill-defined and being set to 0.0 in labels with no predicted samples. Use `zero_division` parameter to control this behavior.\n",
      "  _warn_prf(average, modifier, msg_start, len(result))\n",
      "/usr/local/lib/python3.7/dist-packages/sklearn/metrics/_classification.py:1308: UndefinedMetricWarning: Precision and F-score are ill-defined and being set to 0.0 in labels with no predicted samples. Use `zero_division` parameter to control this behavior.\n",
      "  _warn_prf(average, modifier, msg_start, len(result))\n",
      "/usr/local/lib/python3.7/dist-packages/sklearn/metrics/_classification.py:1308: UndefinedMetricWarning: Precision and F-score are ill-defined and being set to 0.0 in labels with no predicted samples. Use `zero_division` parameter to control this behavior.\n",
      "  _warn_prf(average, modifier, msg_start, len(result))\n"
     ]
    },
    {
     "name": "stdout",
     "output_type": "stream",
     "text": [
      "Evaluation: RBF kernel\n",
      "              precision    recall  f1-score   support\n",
      "\n",
      "           0       0.00      0.00      0.00       483\n",
      "           1       0.62      1.00      0.77       798\n",
      "\n",
      "    accuracy                           0.62      1281\n",
      "   macro avg       0.31      0.50      0.38      1281\n",
      "weighted avg       0.39      0.62      0.48      1281\n",
      "\n"
     ]
    },
    {
     "name": "stderr",
     "output_type": "stream",
     "text": [
      "/usr/local/lib/python3.7/dist-packages/sklearn/metrics/_classification.py:1308: UndefinedMetricWarning: Precision and F-score are ill-defined and being set to 0.0 in labels with no predicted samples. Use `zero_division` parameter to control this behavior.\n",
      "  _warn_prf(average, modifier, msg_start, len(result))\n",
      "/usr/local/lib/python3.7/dist-packages/sklearn/metrics/_classification.py:1308: UndefinedMetricWarning: Precision and F-score are ill-defined and being set to 0.0 in labels with no predicted samples. Use `zero_division` parameter to control this behavior.\n",
      "  _warn_prf(average, modifier, msg_start, len(result))\n",
      "/usr/local/lib/python3.7/dist-packages/sklearn/metrics/_classification.py:1308: UndefinedMetricWarning: Precision and F-score are ill-defined and being set to 0.0 in labels with no predicted samples. Use `zero_division` parameter to control this behavior.\n",
      "  _warn_prf(average, modifier, msg_start, len(result))\n"
     ]
    },
    {
     "name": "stdout",
     "output_type": "stream",
     "text": [
      "Evaluation: Sigmoid kernel\n",
      "              precision    recall  f1-score   support\n",
      "\n",
      "           0       0.00      0.00      0.00       483\n",
      "           1       0.62      1.00      0.77       798\n",
      "\n",
      "    accuracy                           0.62      1281\n",
      "   macro avg       0.31      0.50      0.38      1281\n",
      "weighted avg       0.39      0.62      0.48      1281\n",
      "\n"
     ]
    },
    {
     "name": "stderr",
     "output_type": "stream",
     "text": [
      "/usr/local/lib/python3.7/dist-packages/sklearn/metrics/_classification.py:1308: UndefinedMetricWarning: Precision and F-score are ill-defined and being set to 0.0 in labels with no predicted samples. Use `zero_division` parameter to control this behavior.\n",
      "  _warn_prf(average, modifier, msg_start, len(result))\n",
      "/usr/local/lib/python3.7/dist-packages/sklearn/metrics/_classification.py:1308: UndefinedMetricWarning: Precision and F-score are ill-defined and being set to 0.0 in labels with no predicted samples. Use `zero_division` parameter to control this behavior.\n",
      "  _warn_prf(average, modifier, msg_start, len(result))\n",
      "/usr/local/lib/python3.7/dist-packages/sklearn/metrics/_classification.py:1308: UndefinedMetricWarning: Precision and F-score are ill-defined and being set to 0.0 in labels with no predicted samples. Use `zero_division` parameter to control this behavior.\n",
      "  _warn_prf(average, modifier, msg_start, len(result))\n"
     ]
    },
    {
     "name": "stdout",
     "output_type": "stream",
     "text": [
      "Evaluation: Linear kernel\n",
      "              precision    recall  f1-score   support\n",
      "\n",
      "           0       0.75      0.57      0.65       483\n",
      "           1       0.77      0.89      0.82       798\n",
      "\n",
      "    accuracy                           0.77      1281\n",
      "   macro avg       0.76      0.73      0.74      1281\n",
      "weighted avg       0.76      0.77      0.76      1281\n",
      "\n"
     ]
    }
   ],
   "source": [
    "for i in range(4):\n",
    "    # Separate data into test and training sets\n",
    "    svclassifier = getClassifier(i) \n",
    "    svclassifier.fit(train_vectors,t1)# Make prediction\n",
    "    y_pred = svclassifier.predict(test_vectors)# Evaluate our model\n",
    "    print(\"Evaluation:\", kernels[i], \"kernel\")\n",
    "    print(classification_report(t3,y_pred))"
   ]
  },
  {
   "cell_type": "markdown",
   "metadata": {
    "id": "un8ilvPXR0am"
   },
   "source": [
    "### FOR COMBINED (HASOC + KAGGLE DATA)"
   ]
  },
  {
   "cell_type": "markdown",
   "metadata": {
    "id": "ist19RWPTbt6"
   },
   "source": [
    "ON VALIDATION DATA"
   ]
  },
  {
   "cell_type": "code",
   "execution_count": null,
   "metadata": {
    "colab": {
     "base_uri": "https://localhost:8080/"
    },
    "executionInfo": {
     "elapsed": 114128,
     "status": "ok",
     "timestamp": 1637578958938,
     "user": {
      "displayName": "Rohan avireddy",
      "photoUrl": "https://lh3.googleusercontent.com/a-/AOh14GgDeaM2VSkZlXpIHSVTwhK0x_dzKWLzWzLXidXd=s64",
      "userId": "16070926612337581285"
     },
     "user_tz": -330
    },
    "id": "T8tmQZ9OTehj",
    "outputId": "482335d5-74f4-499e-b65b-af64f6940047"
   },
   "outputs": [
    {
     "name": "stdout",
     "output_type": "stream",
     "text": [
      "Evaluation: Polynomial kernel\n",
      "              precision    recall  f1-score   support\n",
      "\n",
      "           0       0.87      1.00      0.93      6216\n",
      "           1       0.00      0.00      0.00       945\n",
      "\n",
      "    accuracy                           0.87      7161\n",
      "   macro avg       0.43      0.50      0.46      7161\n",
      "weighted avg       0.75      0.87      0.81      7161\n",
      "\n"
     ]
    },
    {
     "name": "stderr",
     "output_type": "stream",
     "text": [
      "/usr/local/lib/python3.7/dist-packages/sklearn/metrics/_classification.py:1308: UndefinedMetricWarning: Precision and F-score are ill-defined and being set to 0.0 in labels with no predicted samples. Use `zero_division` parameter to control this behavior.\n",
      "  _warn_prf(average, modifier, msg_start, len(result))\n",
      "/usr/local/lib/python3.7/dist-packages/sklearn/metrics/_classification.py:1308: UndefinedMetricWarning: Precision and F-score are ill-defined and being set to 0.0 in labels with no predicted samples. Use `zero_division` parameter to control this behavior.\n",
      "  _warn_prf(average, modifier, msg_start, len(result))\n",
      "/usr/local/lib/python3.7/dist-packages/sklearn/metrics/_classification.py:1308: UndefinedMetricWarning: Precision and F-score are ill-defined and being set to 0.0 in labels with no predicted samples. Use `zero_division` parameter to control this behavior.\n",
      "  _warn_prf(average, modifier, msg_start, len(result))\n"
     ]
    },
    {
     "name": "stdout",
     "output_type": "stream",
     "text": [
      "Evaluation: RBF kernel\n",
      "              precision    recall  f1-score   support\n",
      "\n",
      "           0       0.87      1.00      0.93      6216\n",
      "           1       0.00      0.00      0.00       945\n",
      "\n",
      "    accuracy                           0.87      7161\n",
      "   macro avg       0.43      0.50      0.46      7161\n",
      "weighted avg       0.75      0.87      0.81      7161\n",
      "\n"
     ]
    },
    {
     "name": "stderr",
     "output_type": "stream",
     "text": [
      "/usr/local/lib/python3.7/dist-packages/sklearn/metrics/_classification.py:1308: UndefinedMetricWarning: Precision and F-score are ill-defined and being set to 0.0 in labels with no predicted samples. Use `zero_division` parameter to control this behavior.\n",
      "  _warn_prf(average, modifier, msg_start, len(result))\n",
      "/usr/local/lib/python3.7/dist-packages/sklearn/metrics/_classification.py:1308: UndefinedMetricWarning: Precision and F-score are ill-defined and being set to 0.0 in labels with no predicted samples. Use `zero_division` parameter to control this behavior.\n",
      "  _warn_prf(average, modifier, msg_start, len(result))\n",
      "/usr/local/lib/python3.7/dist-packages/sklearn/metrics/_classification.py:1308: UndefinedMetricWarning: Precision and F-score are ill-defined and being set to 0.0 in labels with no predicted samples. Use `zero_division` parameter to control this behavior.\n",
      "  _warn_prf(average, modifier, msg_start, len(result))\n"
     ]
    },
    {
     "name": "stdout",
     "output_type": "stream",
     "text": [
      "Evaluation: Sigmoid kernel\n",
      "              precision    recall  f1-score   support\n",
      "\n",
      "           0       0.87      1.00      0.93      6216\n",
      "           1       0.00      0.00      0.00       945\n",
      "\n",
      "    accuracy                           0.87      7161\n",
      "   macro avg       0.43      0.50      0.46      7161\n",
      "weighted avg       0.75      0.87      0.81      7161\n",
      "\n"
     ]
    },
    {
     "name": "stderr",
     "output_type": "stream",
     "text": [
      "/usr/local/lib/python3.7/dist-packages/sklearn/metrics/_classification.py:1308: UndefinedMetricWarning: Precision and F-score are ill-defined and being set to 0.0 in labels with no predicted samples. Use `zero_division` parameter to control this behavior.\n",
      "  _warn_prf(average, modifier, msg_start, len(result))\n",
      "/usr/local/lib/python3.7/dist-packages/sklearn/metrics/_classification.py:1308: UndefinedMetricWarning: Precision and F-score are ill-defined and being set to 0.0 in labels with no predicted samples. Use `zero_division` parameter to control this behavior.\n",
      "  _warn_prf(average, modifier, msg_start, len(result))\n",
      "/usr/local/lib/python3.7/dist-packages/sklearn/metrics/_classification.py:1308: UndefinedMetricWarning: Precision and F-score are ill-defined and being set to 0.0 in labels with no predicted samples. Use `zero_division` parameter to control this behavior.\n",
      "  _warn_prf(average, modifier, msg_start, len(result))\n"
     ]
    },
    {
     "name": "stdout",
     "output_type": "stream",
     "text": [
      "Evaluation: Linear kernel\n",
      "              precision    recall  f1-score   support\n",
      "\n",
      "           0       0.93      0.98      0.95      6216\n",
      "           1       0.79      0.53      0.64       945\n",
      "\n",
      "    accuracy                           0.92      7161\n",
      "   macro avg       0.86      0.75      0.80      7161\n",
      "weighted avg       0.91      0.92      0.91      7161\n",
      "\n"
     ]
    }
   ],
   "source": [
    "for i in range(4):\n",
    "    # Separate data into test and training sets\n",
    "    svclassifier = getClassifier(i) \n",
    "    svclassifier.fit(train_vectors,t1)# Make prediction\n",
    "    y_pred = svclassifier.predict(val_vectors)# Evaluate our model\n",
    "    print(\"Evaluation:\", kernels[i], \"kernel\")\n",
    "    print(classification_report(t2,y_pred))"
   ]
  },
  {
   "cell_type": "markdown",
   "metadata": {
    "id": "O2Gd6rQwTYWe"
   },
   "source": [
    "ON TEST DATA"
   ]
  },
  {
   "cell_type": "code",
   "execution_count": null,
   "metadata": {
    "colab": {
     "base_uri": "https://localhost:8080/"
    },
    "executionInfo": {
     "elapsed": 99014,
     "status": "ok",
     "timestamp": 1637578792734,
     "user": {
      "displayName": "Rohan avireddy",
      "photoUrl": "https://lh3.googleusercontent.com/a-/AOh14GgDeaM2VSkZlXpIHSVTwhK0x_dzKWLzWzLXidXd=s64",
      "userId": "16070926612337581285"
     },
     "user_tz": -330
    },
    "id": "fpsMjdyXR8nQ",
    "outputId": "2f64a22f-f46b-476b-9453-8e53474c28d0"
   },
   "outputs": [
    {
     "name": "stdout",
     "output_type": "stream",
     "text": [
      "Evaluation: Polynomial kernel\n",
      "              precision    recall  f1-score   support\n",
      "\n",
      "           0       0.38      1.00      0.55       483\n",
      "           1       0.00      0.00      0.00       798\n",
      "\n",
      "    accuracy                           0.38      1281\n",
      "   macro avg       0.19      0.50      0.27      1281\n",
      "weighted avg       0.14      0.38      0.21      1281\n",
      "\n"
     ]
    },
    {
     "name": "stderr",
     "output_type": "stream",
     "text": [
      "/usr/local/lib/python3.7/dist-packages/sklearn/metrics/_classification.py:1308: UndefinedMetricWarning: Precision and F-score are ill-defined and being set to 0.0 in labels with no predicted samples. Use `zero_division` parameter to control this behavior.\n",
      "  _warn_prf(average, modifier, msg_start, len(result))\n",
      "/usr/local/lib/python3.7/dist-packages/sklearn/metrics/_classification.py:1308: UndefinedMetricWarning: Precision and F-score are ill-defined and being set to 0.0 in labels with no predicted samples. Use `zero_division` parameter to control this behavior.\n",
      "  _warn_prf(average, modifier, msg_start, len(result))\n",
      "/usr/local/lib/python3.7/dist-packages/sklearn/metrics/_classification.py:1308: UndefinedMetricWarning: Precision and F-score are ill-defined and being set to 0.0 in labels with no predicted samples. Use `zero_division` parameter to control this behavior.\n",
      "  _warn_prf(average, modifier, msg_start, len(result))\n"
     ]
    },
    {
     "name": "stdout",
     "output_type": "stream",
     "text": [
      "Evaluation: RBF kernel\n",
      "              precision    recall  f1-score   support\n",
      "\n",
      "           0       0.38      1.00      0.55       483\n",
      "           1       0.00      0.00      0.00       798\n",
      "\n",
      "    accuracy                           0.38      1281\n",
      "   macro avg       0.19      0.50      0.27      1281\n",
      "weighted avg       0.14      0.38      0.21      1281\n",
      "\n"
     ]
    },
    {
     "name": "stderr",
     "output_type": "stream",
     "text": [
      "/usr/local/lib/python3.7/dist-packages/sklearn/metrics/_classification.py:1308: UndefinedMetricWarning: Precision and F-score are ill-defined and being set to 0.0 in labels with no predicted samples. Use `zero_division` parameter to control this behavior.\n",
      "  _warn_prf(average, modifier, msg_start, len(result))\n",
      "/usr/local/lib/python3.7/dist-packages/sklearn/metrics/_classification.py:1308: UndefinedMetricWarning: Precision and F-score are ill-defined and being set to 0.0 in labels with no predicted samples. Use `zero_division` parameter to control this behavior.\n",
      "  _warn_prf(average, modifier, msg_start, len(result))\n",
      "/usr/local/lib/python3.7/dist-packages/sklearn/metrics/_classification.py:1308: UndefinedMetricWarning: Precision and F-score are ill-defined and being set to 0.0 in labels with no predicted samples. Use `zero_division` parameter to control this behavior.\n",
      "  _warn_prf(average, modifier, msg_start, len(result))\n"
     ]
    },
    {
     "name": "stdout",
     "output_type": "stream",
     "text": [
      "Evaluation: Sigmoid kernel\n",
      "              precision    recall  f1-score   support\n",
      "\n",
      "           0       0.38      1.00      0.55       483\n",
      "           1       0.00      0.00      0.00       798\n",
      "\n",
      "    accuracy                           0.38      1281\n",
      "   macro avg       0.19      0.50      0.27      1281\n",
      "weighted avg       0.14      0.38      0.21      1281\n",
      "\n"
     ]
    },
    {
     "name": "stderr",
     "output_type": "stream",
     "text": [
      "/usr/local/lib/python3.7/dist-packages/sklearn/metrics/_classification.py:1308: UndefinedMetricWarning: Precision and F-score are ill-defined and being set to 0.0 in labels with no predicted samples. Use `zero_division` parameter to control this behavior.\n",
      "  _warn_prf(average, modifier, msg_start, len(result))\n",
      "/usr/local/lib/python3.7/dist-packages/sklearn/metrics/_classification.py:1308: UndefinedMetricWarning: Precision and F-score are ill-defined and being set to 0.0 in labels with no predicted samples. Use `zero_division` parameter to control this behavior.\n",
      "  _warn_prf(average, modifier, msg_start, len(result))\n",
      "/usr/local/lib/python3.7/dist-packages/sklearn/metrics/_classification.py:1308: UndefinedMetricWarning: Precision and F-score are ill-defined and being set to 0.0 in labels with no predicted samples. Use `zero_division` parameter to control this behavior.\n",
      "  _warn_prf(average, modifier, msg_start, len(result))\n"
     ]
    },
    {
     "name": "stdout",
     "output_type": "stream",
     "text": [
      "Evaluation: Linear kernel\n",
      "              precision    recall  f1-score   support\n",
      "\n",
      "           0       0.59      0.75      0.66       483\n",
      "           1       0.82      0.68      0.74       798\n",
      "\n",
      "    accuracy                           0.71      1281\n",
      "   macro avg       0.70      0.72      0.70      1281\n",
      "weighted avg       0.73      0.71      0.71      1281\n",
      "\n"
     ]
    }
   ],
   "source": [
    "for i in range(4):\n",
    "    # Separate data into test and training sets\n",
    "    svclassifier = getClassifier(i) \n",
    "    svclassifier.fit(train_vectors,t1)# Make prediction\n",
    "    y_pred = svclassifier.predict(test_vectors)# Evaluate our model\n",
    "    print(\"Evaluation:\", kernels[i], \"kernel\")\n",
    "    print(classification_report(t3,y_pred))"
   ]
  },
  {
   "cell_type": "markdown",
   "metadata": {
    "id": "iepdKHdbUX8h"
   },
   "source": [
    "## FOR MULTICLASS CLASSIFICATION"
   ]
  },
  {
   "cell_type": "markdown",
   "metadata": {
    "id": "wNzXxLY5XZTz"
   },
   "source": [
    "FOR VALIDATION 80:20 SPLIT"
   ]
  },
  {
   "cell_type": "code",
   "execution_count": null,
   "metadata": {
    "colab": {
     "base_uri": "https://localhost:8080/"
    },
    "executionInfo": {
     "elapsed": 8419,
     "status": "ok",
     "timestamp": 1637580437205,
     "user": {
      "displayName": "Rohan avireddy",
      "photoUrl": "https://lh3.googleusercontent.com/a-/AOh14GgDeaM2VSkZlXpIHSVTwhK0x_dzKWLzWzLXidXd=s64",
      "userId": "16070926612337581285"
     },
     "user_tz": -330
    },
    "id": "8q41WV23Ubvc",
    "outputId": "a8459324-8728-4ab4-ddf4-663267d0bdd2"
   },
   "outputs": [
    {
     "name": "stdout",
     "output_type": "stream",
     "text": [
      "Evaluation: Polynomial kernel\n",
      "              precision    recall  f1-score   support\n",
      "\n",
      "           0       0.00      0.00      0.00       141\n",
      "           1       0.31      1.00      0.48       240\n",
      "           2       0.00      0.00      0.00       140\n",
      "           3       0.00      0.00      0.00       248\n",
      "\n",
      "    accuracy                           0.31       769\n",
      "   macro avg       0.08      0.25      0.12       769\n",
      "weighted avg       0.10      0.31      0.15       769\n",
      "\n"
     ]
    },
    {
     "name": "stderr",
     "output_type": "stream",
     "text": [
      "/usr/local/lib/python3.7/dist-packages/sklearn/metrics/_classification.py:1308: UndefinedMetricWarning: Precision and F-score are ill-defined and being set to 0.0 in labels with no predicted samples. Use `zero_division` parameter to control this behavior.\n",
      "  _warn_prf(average, modifier, msg_start, len(result))\n",
      "/usr/local/lib/python3.7/dist-packages/sklearn/metrics/_classification.py:1308: UndefinedMetricWarning: Precision and F-score are ill-defined and being set to 0.0 in labels with no predicted samples. Use `zero_division` parameter to control this behavior.\n",
      "  _warn_prf(average, modifier, msg_start, len(result))\n",
      "/usr/local/lib/python3.7/dist-packages/sklearn/metrics/_classification.py:1308: UndefinedMetricWarning: Precision and F-score are ill-defined and being set to 0.0 in labels with no predicted samples. Use `zero_division` parameter to control this behavior.\n",
      "  _warn_prf(average, modifier, msg_start, len(result))\n"
     ]
    },
    {
     "name": "stdout",
     "output_type": "stream",
     "text": [
      "Evaluation: RBF kernel\n",
      "              precision    recall  f1-score   support\n",
      "\n",
      "           0       0.00      0.00      0.00       141\n",
      "           1       0.31      1.00      0.48       240\n",
      "           2       0.00      0.00      0.00       140\n",
      "           3       0.00      0.00      0.00       248\n",
      "\n",
      "    accuracy                           0.31       769\n",
      "   macro avg       0.08      0.25      0.12       769\n",
      "weighted avg       0.10      0.31      0.15       769\n",
      "\n"
     ]
    },
    {
     "name": "stderr",
     "output_type": "stream",
     "text": [
      "/usr/local/lib/python3.7/dist-packages/sklearn/metrics/_classification.py:1308: UndefinedMetricWarning: Precision and F-score are ill-defined and being set to 0.0 in labels with no predicted samples. Use `zero_division` parameter to control this behavior.\n",
      "  _warn_prf(average, modifier, msg_start, len(result))\n",
      "/usr/local/lib/python3.7/dist-packages/sklearn/metrics/_classification.py:1308: UndefinedMetricWarning: Precision and F-score are ill-defined and being set to 0.0 in labels with no predicted samples. Use `zero_division` parameter to control this behavior.\n",
      "  _warn_prf(average, modifier, msg_start, len(result))\n",
      "/usr/local/lib/python3.7/dist-packages/sklearn/metrics/_classification.py:1308: UndefinedMetricWarning: Precision and F-score are ill-defined and being set to 0.0 in labels with no predicted samples. Use `zero_division` parameter to control this behavior.\n",
      "  _warn_prf(average, modifier, msg_start, len(result))\n"
     ]
    },
    {
     "name": "stdout",
     "output_type": "stream",
     "text": [
      "Evaluation: Sigmoid kernel\n",
      "              precision    recall  f1-score   support\n",
      "\n",
      "           0       0.00      0.00      0.00       141\n",
      "           1       0.31      1.00      0.48       240\n",
      "           2       0.00      0.00      0.00       140\n",
      "           3       0.00      0.00      0.00       248\n",
      "\n",
      "    accuracy                           0.31       769\n",
      "   macro avg       0.08      0.25      0.12       769\n",
      "weighted avg       0.10      0.31      0.15       769\n",
      "\n"
     ]
    },
    {
     "name": "stderr",
     "output_type": "stream",
     "text": [
      "/usr/local/lib/python3.7/dist-packages/sklearn/metrics/_classification.py:1308: UndefinedMetricWarning: Precision and F-score are ill-defined and being set to 0.0 in labels with no predicted samples. Use `zero_division` parameter to control this behavior.\n",
      "  _warn_prf(average, modifier, msg_start, len(result))\n",
      "/usr/local/lib/python3.7/dist-packages/sklearn/metrics/_classification.py:1308: UndefinedMetricWarning: Precision and F-score are ill-defined and being set to 0.0 in labels with no predicted samples. Use `zero_division` parameter to control this behavior.\n",
      "  _warn_prf(average, modifier, msg_start, len(result))\n",
      "/usr/local/lib/python3.7/dist-packages/sklearn/metrics/_classification.py:1308: UndefinedMetricWarning: Precision and F-score are ill-defined and being set to 0.0 in labels with no predicted samples. Use `zero_division` parameter to control this behavior.\n",
      "  _warn_prf(average, modifier, msg_start, len(result))\n"
     ]
    },
    {
     "name": "stdout",
     "output_type": "stream",
     "text": [
      "Evaluation: Linear kernel\n",
      "              precision    recall  f1-score   support\n",
      "\n",
      "           0       0.50      0.49      0.49       141\n",
      "           1       0.62      0.70      0.66       240\n",
      "           2       0.57      0.26      0.35       140\n",
      "           3       0.73      0.88      0.80       248\n",
      "\n",
      "    accuracy                           0.64       769\n",
      "   macro avg       0.61      0.58      0.58       769\n",
      "weighted avg       0.63      0.64      0.62       769\n",
      "\n"
     ]
    }
   ],
   "source": [
    "for i in range(4):\n",
    "    # Separate data into test and training sets\n",
    "    svclassifier = getClassifier(i) \n",
    "    svclassifier.fit(train_vectors,t4)# Make prediction\n",
    "    y_pred = svclassifier.predict(val_vectors)# Evaluate our model\n",
    "    print(\"Evaluation:\", kernels[i], \"kernel\")\n",
    "    print(classification_report(t5,y_pred))"
   ]
  },
  {
   "cell_type": "markdown",
   "metadata": {
    "id": "_6Wd4o_5Xqcs"
   },
   "source": [
    "ON TEST DATA"
   ]
  },
  {
   "cell_type": "code",
   "execution_count": null,
   "metadata": {
    "colab": {
     "base_uri": "https://localhost:8080/"
    },
    "executionInfo": {
     "elapsed": 9294,
     "status": "ok",
     "timestamp": 1637580478051,
     "user": {
      "displayName": "Rohan avireddy",
      "photoUrl": "https://lh3.googleusercontent.com/a-/AOh14GgDeaM2VSkZlXpIHSVTwhK0x_dzKWLzWzLXidXd=s64",
      "userId": "16070926612337581285"
     },
     "user_tz": -330
    },
    "id": "qTK0ml-5XtCl",
    "outputId": "4f329646-9532-4d57-b1f7-39de3e088a39"
   },
   "outputs": [
    {
     "name": "stdout",
     "output_type": "stream",
     "text": [
      "testing: Polynomial kernel\n",
      "              precision    recall  f1-score   support\n",
      "\n",
      "           0       0.00      0.00      0.00       224\n",
      "           1       0.38      1.00      0.55       483\n",
      "           2       0.00      0.00      0.00       195\n",
      "           3       0.00      0.00      0.00       379\n",
      "\n",
      "    accuracy                           0.38      1281\n",
      "   macro avg       0.09      0.25      0.14      1281\n",
      "weighted avg       0.14      0.38      0.21      1281\n",
      "\n"
     ]
    },
    {
     "name": "stderr",
     "output_type": "stream",
     "text": [
      "/usr/local/lib/python3.7/dist-packages/sklearn/metrics/_classification.py:1308: UndefinedMetricWarning: Precision and F-score are ill-defined and being set to 0.0 in labels with no predicted samples. Use `zero_division` parameter to control this behavior.\n",
      "  _warn_prf(average, modifier, msg_start, len(result))\n",
      "/usr/local/lib/python3.7/dist-packages/sklearn/metrics/_classification.py:1308: UndefinedMetricWarning: Precision and F-score are ill-defined and being set to 0.0 in labels with no predicted samples. Use `zero_division` parameter to control this behavior.\n",
      "  _warn_prf(average, modifier, msg_start, len(result))\n",
      "/usr/local/lib/python3.7/dist-packages/sklearn/metrics/_classification.py:1308: UndefinedMetricWarning: Precision and F-score are ill-defined and being set to 0.0 in labels with no predicted samples. Use `zero_division` parameter to control this behavior.\n",
      "  _warn_prf(average, modifier, msg_start, len(result))\n"
     ]
    },
    {
     "name": "stdout",
     "output_type": "stream",
     "text": [
      "testing: RBF kernel\n",
      "              precision    recall  f1-score   support\n",
      "\n",
      "           0       0.00      0.00      0.00       224\n",
      "           1       0.38      1.00      0.55       483\n",
      "           2       0.00      0.00      0.00       195\n",
      "           3       0.00      0.00      0.00       379\n",
      "\n",
      "    accuracy                           0.38      1281\n",
      "   macro avg       0.09      0.25      0.14      1281\n",
      "weighted avg       0.14      0.38      0.21      1281\n",
      "\n"
     ]
    },
    {
     "name": "stderr",
     "output_type": "stream",
     "text": [
      "/usr/local/lib/python3.7/dist-packages/sklearn/metrics/_classification.py:1308: UndefinedMetricWarning: Precision and F-score are ill-defined and being set to 0.0 in labels with no predicted samples. Use `zero_division` parameter to control this behavior.\n",
      "  _warn_prf(average, modifier, msg_start, len(result))\n",
      "/usr/local/lib/python3.7/dist-packages/sklearn/metrics/_classification.py:1308: UndefinedMetricWarning: Precision and F-score are ill-defined and being set to 0.0 in labels with no predicted samples. Use `zero_division` parameter to control this behavior.\n",
      "  _warn_prf(average, modifier, msg_start, len(result))\n",
      "/usr/local/lib/python3.7/dist-packages/sklearn/metrics/_classification.py:1308: UndefinedMetricWarning: Precision and F-score are ill-defined and being set to 0.0 in labels with no predicted samples. Use `zero_division` parameter to control this behavior.\n",
      "  _warn_prf(average, modifier, msg_start, len(result))\n"
     ]
    },
    {
     "name": "stdout",
     "output_type": "stream",
     "text": [
      "testing: Sigmoid kernel\n",
      "              precision    recall  f1-score   support\n",
      "\n",
      "           0       0.00      0.00      0.00       224\n",
      "           1       0.38      1.00      0.55       483\n",
      "           2       0.00      0.00      0.00       195\n",
      "           3       0.00      0.00      0.00       379\n",
      "\n",
      "    accuracy                           0.38      1281\n",
      "   macro avg       0.09      0.25      0.14      1281\n",
      "weighted avg       0.14      0.38      0.21      1281\n",
      "\n"
     ]
    },
    {
     "name": "stderr",
     "output_type": "stream",
     "text": [
      "/usr/local/lib/python3.7/dist-packages/sklearn/metrics/_classification.py:1308: UndefinedMetricWarning: Precision and F-score are ill-defined and being set to 0.0 in labels with no predicted samples. Use `zero_division` parameter to control this behavior.\n",
      "  _warn_prf(average, modifier, msg_start, len(result))\n",
      "/usr/local/lib/python3.7/dist-packages/sklearn/metrics/_classification.py:1308: UndefinedMetricWarning: Precision and F-score are ill-defined and being set to 0.0 in labels with no predicted samples. Use `zero_division` parameter to control this behavior.\n",
      "  _warn_prf(average, modifier, msg_start, len(result))\n",
      "/usr/local/lib/python3.7/dist-packages/sklearn/metrics/_classification.py:1308: UndefinedMetricWarning: Precision and F-score are ill-defined and being set to 0.0 in labels with no predicted samples. Use `zero_division` parameter to control this behavior.\n",
      "  _warn_prf(average, modifier, msg_start, len(result))\n"
     ]
    },
    {
     "name": "stdout",
     "output_type": "stream",
     "text": [
      "testing: Linear kernel\n",
      "              precision    recall  f1-score   support\n",
      "\n",
      "           0       0.49      0.44      0.47       224\n",
      "           1       0.66      0.69      0.68       483\n",
      "           2       0.48      0.22      0.30       195\n",
      "           3       0.69      0.89      0.78       379\n",
      "\n",
      "    accuracy                           0.63      1281\n",
      "   macro avg       0.58      0.56      0.55      1281\n",
      "weighted avg       0.61      0.63      0.61      1281\n",
      "\n"
     ]
    }
   ],
   "source": [
    "for i in range(4):\n",
    "    # Separate data into test and training sets\n",
    "    svclassifier = getClassifier(i) \n",
    "    svclassifier.fit(train_vectors,t4)# Make prediction\n",
    "    y_pred = svclassifier.predict(test_vectors)# Evaluate our model\n",
    "    print(\"testing:\", kernels[i], \"kernel\")\n",
    "    print(classification_report(t6,y_pred))"
   ]
  }
 ],
 "metadata": {
  "colab": {
   "collapsed_sections": [],
   "name": "final_Unigram_SVM_ML_Project.ipynb",
   "provenance": []
  },
  "kernelspec": {
   "display_name": "Python 3 (ipykernel)",
   "language": "python",
   "name": "python3"
  },
  "language_info": {
   "codemirror_mode": {
    "name": "ipython",
    "version": 3
   },
   "file_extension": ".py",
   "mimetype": "text/x-python",
   "name": "python",
   "nbconvert_exporter": "python",
   "pygments_lexer": "ipython3",
   "version": "3.10.9"
  }
 },
 "nbformat": 4,
 "nbformat_minor": 1
}
