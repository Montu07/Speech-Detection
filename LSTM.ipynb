{
 "cells": [
  {
   "cell_type": "markdown",
   "metadata": {
    "id": "x3IpYUh5ROzM"
   },
   "source": [
    "# Mount Drive\n",
    "\n"
   ]
  },
  {
   "cell_type": "code",
   "execution_count": 2,
   "metadata": {
    "colab": {
     "base_uri": "https://localhost:8080/"
    },
    "executionInfo": {
     "elapsed": 12474,
     "status": "ok",
     "timestamp": 1638859930756,
     "user": {
      "displayName": "Hrudhvik Nangineni",
      "photoUrl": "https://lh3.googleusercontent.com/a-/AOh14GgSRPSGK4MzcFuX8LcDUtitMsgxtOPYuDYa61cfQQ=s64",
      "userId": "10440684525224406039"
     },
     "user_tz": -330
    },
    "id": "mUxd-hTDcNqQ",
    "outputId": "2ad4cf1d-385a-43bc-95c3-3a74051768df"
   },
   "outputs": [
    {
     "name": "stdout",
     "output_type": "stream",
     "text": [
      "Mounted at /content/drive\n"
     ]
    }
   ],
   "source": [
    "from google.colab import drive\n",
    "drive.mount('/content/drive')"
   ]
  },
  {
   "cell_type": "markdown",
   "metadata": {
    "id": "bRQgax8xTW4w"
   },
   "source": [
    "# Importing Libraries and initializing stopwords and stemmer\n"
   ]
  },
  {
   "cell_type": "code",
   "execution_count": 3,
   "metadata": {
    "colab": {
     "base_uri": "https://localhost:8080/"
    },
    "executionInfo": {
     "elapsed": 4691,
     "status": "ok",
     "timestamp": 1638859941135,
     "user": {
      "displayName": "Hrudhvik Nangineni",
      "photoUrl": "https://lh3.googleusercontent.com/a-/AOh14GgSRPSGK4MzcFuX8LcDUtitMsgxtOPYuDYa61cfQQ=s64",
      "userId": "10440684525224406039"
     },
     "user_tz": -330
    },
    "id": "-zf_qMjiTk5J",
    "outputId": "7fcb9f28-31d9-4e19-cca6-c1db50cc8d55"
   },
   "outputs": [
    {
     "name": "stdout",
     "output_type": "stream",
     "text": [
      "[nltk_data] Downloading package wordnet to /root/nltk_data...\n",
      "[nltk_data]   Unzipping corpora/wordnet.zip.\n"
     ]
    },
    {
     "data": {
      "text/plain": [
       "True"
      ]
     },
     "execution_count": 3,
     "metadata": {},
     "output_type": "execute_result"
    }
   ],
   "source": [
    "import numpy as np\n",
    "import pandas as pd \n",
    "import matplotlib.pyplot as plt\n",
    "import seaborn as sns\n",
    "\n",
    "import warnings\n",
    "warnings.filterwarnings(\"ignore\")\n",
    "\n",
    "import nltk\n",
    "\n",
    "import re\n",
    "from bs4 import BeautifulSoup\n",
    "from tqdm import tqdm\n",
    "from nltk.stem import WordNetLemmatizer\n",
    "\n",
    "from sklearn.model_selection import train_test_split\n",
    "from sklearn.metrics import accuracy_score,f1_score, confusion_matrix\n",
    "\n",
    "from keras.preprocessing.text import Tokenizer\n",
    "from sklearn.feature_extraction.text import TfidfVectorizer\n",
    "from keras.preprocessing.sequence import pad_sequences\n",
    "from keras.layers import Dense , Input , LSTM , Embedding, Dropout , Activation, GRU, Flatten\n",
    "from keras.layers import Bidirectional, GlobalMaxPool1D\n",
    "from keras.models import Model, Sequential\n",
    "from keras.layers import Convolution1D\n",
    "from keras import initializers, regularizers, constraints, optimizers, layers\n",
    "nltk.download('wordnet')\n"
   ]
  },
  {
   "cell_type": "code",
   "execution_count": 4,
   "metadata": {
    "executionInfo": {
     "elapsed": 2,
     "status": "ok",
     "timestamp": 1638859943024,
     "user": {
      "displayName": "Hrudhvik Nangineni",
      "photoUrl": "https://lh3.googleusercontent.com/a-/AOh14GgSRPSGK4MzcFuX8LcDUtitMsgxtOPYuDYa61cfQQ=s64",
      "userId": "10440684525224406039"
     },
     "user_tz": -330
    },
    "id": "BGIMwvXjgFxV"
   },
   "outputs": [],
   "source": [
    "from sklearn.preprocessing import LabelEncoder"
   ]
  },
  {
   "cell_type": "markdown",
   "metadata": {
    "id": "Qp_zCdofVU8E"
   },
   "source": [
    "# Reading Data\n"
   ]
  },
  {
   "cell_type": "code",
   "execution_count": 86,
   "metadata": {
    "executionInfo": {
     "elapsed": 3,
     "status": "ok",
     "timestamp": 1638863125750,
     "user": {
      "displayName": "Hrudhvik Nangineni",
      "photoUrl": "https://lh3.googleusercontent.com/a-/AOh14GgSRPSGK4MzcFuX8LcDUtitMsgxtOPYuDYa61cfQQ=s64",
      "userId": "10440684525224406039"
     },
     "user_tz": -330
    },
    "id": "ql_BZvzaVYdM"
   },
   "outputs": [],
   "source": [
    "hasoc_train=pd.read_csv(\"/content/drive/MyDrive/ML JCOMP SEM5/en_Hasoc2021_train.csv\") # hasoc only data\n",
    "# combined data of hasoc+kaggle\n",
    "hasoc_test=pd.read_csv(\"/content/drive/MyDrive/ML JCOMP SEM5/en_Hasoc2021_test_data.csv\") # hasoc test data\n",
    "hasoc_test_bin=pd.read_csv(\"/content/drive/MyDrive/ML JCOMP SEM5/1A_English_actual_labels.csv\") # hasoc binary test labels\n",
    "hasoc_test_mul=pd.read_csv(\"/content/drive/MyDrive/ML JCOMP SEM5/1B_English_actual_labels.csv\") #hasoc multiclass test labels"
   ]
  },
  {
   "cell_type": "code",
   "execution_count": 60,
   "metadata": {
    "executionInfo": {
     "elapsed": 1,
     "status": "ok",
     "timestamp": 1638860952283,
     "user": {
      "displayName": "Hrudhvik Nangineni",
      "photoUrl": "https://lh3.googleusercontent.com/a-/AOh14GgSRPSGK4MzcFuX8LcDUtitMsgxtOPYuDYa61cfQQ=s64",
      "userId": "10440684525224406039"
     },
     "user_tz": -330
    },
    "id": "Ka7_U0l7eiMn"
   },
   "outputs": [],
   "source": [
    "combined_train=pd.read_csv(\"/content/drive/MyDrive/ML JCOMP SEM5/hate_bin_combine.csv\",encoding = \"ISO-8859-1\") "
   ]
  },
  {
   "cell_type": "code",
   "execution_count": null,
   "metadata": {
    "colab": {
     "base_uri": "https://localhost:8080/",
     "height": 423
    },
    "executionInfo": {
     "elapsed": 15,
     "status": "ok",
     "timestamp": 1637588731527,
     "user": {
      "displayName": "Hrudhvik Nangineni",
      "photoUrl": "https://lh3.googleusercontent.com/a-/AOh14GgSRPSGK4MzcFuX8LcDUtitMsgxtOPYuDYa61cfQQ=s64",
      "userId": "10440684525224406039"
     },
     "user_tz": -330
    },
    "id": "q2yq_JI9enDV",
    "outputId": "e584f0e9-5d07-4508-f726-c40eca3adbb8"
   },
   "outputs": [
    {
     "data": {
      "text/html": [
       "<div>\n",
       "<style scoped>\n",
       "    .dataframe tbody tr th:only-of-type {\n",
       "        vertical-align: middle;\n",
       "    }\n",
       "\n",
       "    .dataframe tbody tr th {\n",
       "        vertical-align: top;\n",
       "    }\n",
       "\n",
       "    .dataframe thead th {\n",
       "        text-align: right;\n",
       "    }\n",
       "</style>\n",
       "<table border=\"1\" class=\"dataframe\">\n",
       "  <thead>\n",
       "    <tr style=\"text-align: right;\">\n",
       "      <th></th>\n",
       "      <th>Unnamed: 0</th>\n",
       "      <th>_id</th>\n",
       "      <th>text</th>\n",
       "      <th>task_1</th>\n",
       "      <th>task_2</th>\n",
       "    </tr>\n",
       "  </thead>\n",
       "  <tbody>\n",
       "    <tr>\n",
       "      <th>0</th>\n",
       "      <td>4986</td>\n",
       "      <td>60c5d6bf5659ea5e55defa2c</td>\n",
       "      <td>@wealth if you made it through this &amp;amp;&amp;amp;...</td>\n",
       "      <td>HOF</td>\n",
       "      <td>PRFN</td>\n",
       "    </tr>\n",
       "    <tr>\n",
       "      <th>1</th>\n",
       "      <td>3394</td>\n",
       "      <td>60c5d6bf5659ea5e55def461</td>\n",
       "      <td>Technically that's still turning back the cloc...</td>\n",
       "      <td>HOF</td>\n",
       "      <td>OFFN</td>\n",
       "    </tr>\n",
       "    <tr>\n",
       "      <th>2</th>\n",
       "      <td>1310</td>\n",
       "      <td>60c5d6bf5659ea5e55defaad</td>\n",
       "      <td>@VMBJP @BJP4Bengal @BJP4India @narendramodi @J...</td>\n",
       "      <td>NOT</td>\n",
       "      <td>NONE</td>\n",
       "    </tr>\n",
       "    <tr>\n",
       "      <th>3</th>\n",
       "      <td>3390</td>\n",
       "      <td>60c5d6bf5659ea5e55def419</td>\n",
       "      <td>@krtoprak_yigit Soldier of Japan Who has dick ...</td>\n",
       "      <td>HOF</td>\n",
       "      <td>OFFN</td>\n",
       "    </tr>\n",
       "    <tr>\n",
       "      <th>4</th>\n",
       "      <td>4626</td>\n",
       "      <td>60c5d6bf5659ea5e55def7fa</td>\n",
       "      <td>@blueheartedly You'd be better off asking who ...</td>\n",
       "      <td>HOF</td>\n",
       "      <td>OFFN</td>\n",
       "    </tr>\n",
       "    <tr>\n",
       "      <th>...</th>\n",
       "      <td>...</td>\n",
       "      <td>...</td>\n",
       "      <td>...</td>\n",
       "      <td>...</td>\n",
       "      <td>...</td>\n",
       "    </tr>\n",
       "    <tr>\n",
       "      <th>3838</th>\n",
       "      <td>1661</td>\n",
       "      <td>60c5d6bf5659ea5e55defd57</td>\n",
       "      <td>@BBCNews Let the dog deal with the wanker once...</td>\n",
       "      <td>HOF</td>\n",
       "      <td>PRFN</td>\n",
       "    </tr>\n",
       "    <tr>\n",
       "      <th>3839</th>\n",
       "      <td>194</td>\n",
       "      <td>60c5d6bf5659ea5e55def185</td>\n",
       "      <td>India has suffered a lot. That Chinese bastard...</td>\n",
       "      <td>HOF</td>\n",
       "      <td>HATE</td>\n",
       "    </tr>\n",
       "    <tr>\n",
       "      <th>3840</th>\n",
       "      <td>3988</td>\n",
       "      <td>60c5d6bf5659ea5e55def78c</td>\n",
       "      <td>People didn't give 300+ seats majority to BJP ...</td>\n",
       "      <td>HOF</td>\n",
       "      <td>HATE</td>\n",
       "    </tr>\n",
       "    <tr>\n",
       "      <th>3841</th>\n",
       "      <td>4212</td>\n",
       "      <td>60c5d6bf5659ea5e55defb04</td>\n",
       "      <td>@KanganaTeam This is such a vile, xenophobic a...</td>\n",
       "      <td>HOF</td>\n",
       "      <td>PRFN</td>\n",
       "    </tr>\n",
       "    <tr>\n",
       "      <th>3842</th>\n",
       "      <td>1512</td>\n",
       "      <td>60c5d6bf5659ea5e55defb8a</td>\n",
       "      <td>@30iPpgStmILw0SI @ChinaDaily #ChineseVirus #Wu...</td>\n",
       "      <td>NOT</td>\n",
       "      <td>NONE</td>\n",
       "    </tr>\n",
       "  </tbody>\n",
       "</table>\n",
       "<p>3843 rows × 5 columns</p>\n",
       "</div>"
      ],
      "text/plain": [
       "      Unnamed: 0                       _id  ... task_1 task_2\n",
       "0           4986  60c5d6bf5659ea5e55defa2c  ...    HOF   PRFN\n",
       "1           3394  60c5d6bf5659ea5e55def461  ...    HOF   OFFN\n",
       "2           1310  60c5d6bf5659ea5e55defaad  ...    NOT   NONE\n",
       "3           3390  60c5d6bf5659ea5e55def419  ...    HOF   OFFN\n",
       "4           4626  60c5d6bf5659ea5e55def7fa  ...    HOF   OFFN\n",
       "...          ...                       ...  ...    ...    ...\n",
       "3838        1661  60c5d6bf5659ea5e55defd57  ...    HOF   PRFN\n",
       "3839         194  60c5d6bf5659ea5e55def185  ...    HOF   HATE\n",
       "3840        3988  60c5d6bf5659ea5e55def78c  ...    HOF   HATE\n",
       "3841        4212  60c5d6bf5659ea5e55defb04  ...    HOF   PRFN\n",
       "3842        1512  60c5d6bf5659ea5e55defb8a  ...    NOT   NONE\n",
       "\n",
       "[3843 rows x 5 columns]"
      ]
     },
     "execution_count": 6,
     "metadata": {},
     "output_type": "execute_result"
    }
   ],
   "source": [
    "hasoc_train"
   ]
  },
  {
   "cell_type": "code",
   "execution_count": null,
   "metadata": {
    "colab": {
     "base_uri": "https://localhost:8080/",
     "height": 423
    },
    "executionInfo": {
     "elapsed": 413,
     "status": "ok",
     "timestamp": 1637588732403,
     "user": {
      "displayName": "Hrudhvik Nangineni",
      "photoUrl": "https://lh3.googleusercontent.com/a-/AOh14GgSRPSGK4MzcFuX8LcDUtitMsgxtOPYuDYa61cfQQ=s64",
      "userId": "10440684525224406039"
     },
     "user_tz": -330
    },
    "id": "0eodorkzeozs",
    "outputId": "5c6dbdfe-f4ed-47d2-f40c-eccac16bf242"
   },
   "outputs": [
    {
     "data": {
      "text/html": [
       "<div>\n",
       "<style scoped>\n",
       "    .dataframe tbody tr th:only-of-type {\n",
       "        vertical-align: middle;\n",
       "    }\n",
       "\n",
       "    .dataframe tbody tr th {\n",
       "        vertical-align: top;\n",
       "    }\n",
       "\n",
       "    .dataframe thead th {\n",
       "        text-align: right;\n",
       "    }\n",
       "</style>\n",
       "<table border=\"1\" class=\"dataframe\">\n",
       "  <thead>\n",
       "    <tr style=\"text-align: right;\">\n",
       "      <th></th>\n",
       "      <th>_id</th>\n",
       "      <th>text</th>\n",
       "      <th>task_1</th>\n",
       "    </tr>\n",
       "  </thead>\n",
       "  <tbody>\n",
       "    <tr>\n",
       "      <th>0</th>\n",
       "      <td>60c5d6bf5659ea5e55defa2c</td>\n",
       "      <td>@wealth if you made it through this &amp;amp;&amp;amp;...</td>\n",
       "      <td>HOF</td>\n",
       "    </tr>\n",
       "    <tr>\n",
       "      <th>1</th>\n",
       "      <td>60c5d6bf5659ea5e55def461</td>\n",
       "      <td>Technically that's still turning back the cloc...</td>\n",
       "      <td>HOF</td>\n",
       "    </tr>\n",
       "    <tr>\n",
       "      <th>2</th>\n",
       "      <td>60c5d6bf5659ea5e55defaad</td>\n",
       "      <td>@VMBJP @BJP4Bengal @BJP4India @narendramodi @J...</td>\n",
       "      <td>NOT</td>\n",
       "    </tr>\n",
       "    <tr>\n",
       "      <th>3</th>\n",
       "      <td>60c5d6bf5659ea5e55def419</td>\n",
       "      <td>@krtoprak_yigit Soldier of Japan Who has dick ...</td>\n",
       "      <td>HOF</td>\n",
       "    </tr>\n",
       "    <tr>\n",
       "      <th>4</th>\n",
       "      <td>60c5d6bf5659ea5e55def7fa</td>\n",
       "      <td>@blueheartedly You'd be better off asking who ...</td>\n",
       "      <td>HOF</td>\n",
       "    </tr>\n",
       "    <tr>\n",
       "      <th>...</th>\n",
       "      <td>...</td>\n",
       "      <td>...</td>\n",
       "      <td>...</td>\n",
       "    </tr>\n",
       "    <tr>\n",
       "      <th>35800</th>\n",
       "      <td>31958</td>\n",
       "      <td>ate @user isz that youuu?ÃÂ°ÃÂÃÂÃÂÃÂ°Ã...</td>\n",
       "      <td>NOT</td>\n",
       "    </tr>\n",
       "    <tr>\n",
       "      <th>35801</th>\n",
       "      <td>31959</td>\n",
       "      <td>to see nina turner on the airwaves trying to w...</td>\n",
       "      <td>NOT</td>\n",
       "    </tr>\n",
       "    <tr>\n",
       "      <th>35802</th>\n",
       "      <td>31960</td>\n",
       "      <td>listening to sad songs on a monday morning otw...</td>\n",
       "      <td>NOT</td>\n",
       "    </tr>\n",
       "    <tr>\n",
       "      <th>35803</th>\n",
       "      <td>31961</td>\n",
       "      <td>@user #sikh #temple vandalised in in #calgary,...</td>\n",
       "      <td>HOF</td>\n",
       "    </tr>\n",
       "    <tr>\n",
       "      <th>35804</th>\n",
       "      <td>31962</td>\n",
       "      <td>thank you @user for you follow</td>\n",
       "      <td>NOT</td>\n",
       "    </tr>\n",
       "  </tbody>\n",
       "</table>\n",
       "<p>35805 rows × 3 columns</p>\n",
       "</div>"
      ],
      "text/plain": [
       "                            _id  ... task_1\n",
       "0      60c5d6bf5659ea5e55defa2c  ...    HOF\n",
       "1      60c5d6bf5659ea5e55def461  ...    HOF\n",
       "2      60c5d6bf5659ea5e55defaad  ...    NOT\n",
       "3      60c5d6bf5659ea5e55def419  ...    HOF\n",
       "4      60c5d6bf5659ea5e55def7fa  ...    HOF\n",
       "...                         ...  ...    ...\n",
       "35800                     31958  ...    NOT\n",
       "35801                     31959  ...    NOT\n",
       "35802                     31960  ...    NOT\n",
       "35803                     31961  ...    HOF\n",
       "35804                     31962  ...    NOT\n",
       "\n",
       "[35805 rows x 3 columns]"
      ]
     },
     "execution_count": 7,
     "metadata": {},
     "output_type": "execute_result"
    }
   ],
   "source": [
    "combined_train"
   ]
  },
  {
   "cell_type": "code",
   "execution_count": 87,
   "metadata": {
    "executionInfo": {
     "elapsed": 2,
     "status": "ok",
     "timestamp": 1638863125750,
     "user": {
      "displayName": "Hrudhvik Nangineni",
      "photoUrl": "https://lh3.googleusercontent.com/a-/AOh14GgSRPSGK4MzcFuX8LcDUtitMsgxtOPYuDYa61cfQQ=s64",
      "userId": "10440684525224406039"
     },
     "user_tz": -330
    },
    "id": "wqQdg_uzdZR4"
   },
   "outputs": [],
   "source": [
    "hasoc_test[\"task_1\"]=hasoc_test_bin[\"label\"]"
   ]
  },
  {
   "cell_type": "code",
   "execution_count": 88,
   "metadata": {
    "executionInfo": {
     "elapsed": 2,
     "status": "ok",
     "timestamp": 1638863125750,
     "user": {
      "displayName": "Hrudhvik Nangineni",
      "photoUrl": "https://lh3.googleusercontent.com/a-/AOh14GgSRPSGK4MzcFuX8LcDUtitMsgxtOPYuDYa61cfQQ=s64",
      "userId": "10440684525224406039"
     },
     "user_tz": -330
    },
    "id": "sDFR3zT2e2kk"
   },
   "outputs": [],
   "source": [
    "hasoc_test[\"task_2\"]=hasoc_test_mul[\"label\"]"
   ]
  },
  {
   "cell_type": "markdown",
   "metadata": {
    "id": "ya3vFPNIe9WR"
   },
   "source": [
    "# Basic Preprocessing of Tweets\n"
   ]
  },
  {
   "cell_type": "code",
   "execution_count": 63,
   "metadata": {
    "executionInfo": {
     "elapsed": 368,
     "status": "ok",
     "timestamp": 1638860962329,
     "user": {
      "displayName": "Hrudhvik Nangineni",
      "photoUrl": "https://lh3.googleusercontent.com/a-/AOh14GgSRPSGK4MzcFuX8LcDUtitMsgxtOPYuDYa61cfQQ=s64",
      "userId": "10440684525224406039"
     },
     "user_tz": -330
    },
    "id": "yYfVULZZiA2c"
   },
   "outputs": [],
   "source": [
    "lemmatizer = WordNetLemmatizer()\n",
    "stop_words= set(['br', 'the', 'i', 'me', 'my', 'myself', 'we', 'our', 'ours', 'ourselves', 'you', \"you're\", \"you've\",\\\n",
    "            \"you'll\", \"you'd\", 'your', 'yours', 'yourself', 'yourselves', 'he', 'him', 'his', 'himself', \\\n",
    "            'she', \"she's\", 'her', 'hers', 'herself', 'it', \"it's\", 'its', 'itself', 'they', 'them', 'their',\\\n",
    "            'theirs', 'themselves', 'what', 'which', 'who', 'whom', 'this', 'that', \"that'll\", 'these', 'those', \\\n",
    "            'am', 'is', 'are', 'was', 'were', 'be', 'been', 'being', 'have', 'has', 'had', 'having', 'do', 'does', \\\n",
    "            'did', 'doing', 'a', 'an', 'the', 'and', 'but', 'if', 'or', 'because', 'as', 'until', 'while', 'of', \\\n",
    "            'at', 'by', 'for', 'with', 'about', 'against', 'between', 'into', 'through', 'during', 'before', 'after',\\\n",
    "            'above', 'below', 'to', 'from', 'up', 'down', 'in', 'out', 'on', 'off', 'over', 'under', 'again', 'further',\\\n",
    "            'then', 'once', 'here', 'there', 'when', 'where', 'why', 'how', 'all', 'any', 'both', 'each', 'few', 'more',\\\n",
    "            'most', 'other', 'some', 'such', 'only', 'own', 'same', 'so', 'than', 'too', 'very', \\\n",
    "            's', 't', 'can', 'will', 'just', 'don', \"don't\", 'should', \"should've\", 'now', 'd', 'll', 'm', 'o', 're', \\\n",
    "            've', 'y', 'ain', 'aren', \"aren't\", 'couldn', \"couldn't\", 'didn', \"didn't\", 'doesn', \"doesn't\", 'hadn',\\\n",
    "            \"hadn't\", 'hasn', \"hasn't\", 'haven', \"haven't\", 'isn', \"isn't\", 'ma', 'mightn', \"mightn't\", 'mustn',\\\n",
    "            \"mustn't\", 'needn', \"needn't\", 'shan', \"shan't\", 'shouldn', \"shouldn't\", 'wasn', \"wasn't\", 'weren', \"weren't\", \\\n",
    "            'won', \"won't\", 'wouldn', \"wouldn't\",\"not\"])\n"
   ]
  },
  {
   "cell_type": "code",
   "execution_count": 64,
   "metadata": {
    "executionInfo": {
     "elapsed": 2,
     "status": "ok",
     "timestamp": 1638860964157,
     "user": {
      "displayName": "Hrudhvik Nangineni",
      "photoUrl": "https://lh3.googleusercontent.com/a-/AOh14GgSRPSGK4MzcFuX8LcDUtitMsgxtOPYuDYa61cfQQ=s64",
      "userId": "10440684525224406039"
     },
     "user_tz": -330
    },
    "id": "k74l6ux0T6Ag"
   },
   "outputs": [],
   "source": [
    "def preprocess(tweets):\n",
    "  \n",
    "  tweets.encode('ascii', 'ignore').decode('ascii') #remove emojis\n",
    "  tweets=tweets.lower()                   #convert to lower case\n",
    "  tweets = re.sub(r\"http\\S+\", \" \", tweets) #remove urls\n",
    "  l=tweets.split(\" \")\n",
    "  for n,i in enumerate(l):\n",
    "    if '@' in i:\n",
    "      l[n]=\"\"\n",
    "  \n",
    "  tweets=\" \".join(l)\n",
    "  tweets= re.sub('[^A-Za-z]+',' ',tweets) #remove bad character\n",
    "  tweets = [word for word in tweets.split(\" \") if not word in stop_words] # removing stop words\n",
    "  tweets= [lemmatizer.lemmatize(token, \"v\") for token in tweets] #Lemmatization\n",
    "  tweets=\" \".join(tweets) \n",
    "  return tweets \n",
    "def decontract(text):\n",
    "    text = re.sub(r\"won\\'t\", \"will not\", text)\n",
    "    text = re.sub(r\"can\\'t\", \"can not\", text)\n",
    "    text = re.sub(r\"n\\'t\", \" not\", text)\n",
    "    text = re.sub(r\"\\'re\", \" are\", text)\n",
    "    text = re.sub(r\"\\'s\", \" is\", text)\n",
    "    text = re.sub(r\"\\'d\", \" would\", text)\n",
    "    text = re.sub(r\"\\'ll\", \" will\", text)\n",
    "    text = re.sub(r\"\\'t\", \" not\", text)\n",
    "    text = re.sub(r\"\\'ve\", \" have\", text)\n",
    "    text = re.sub(r\"\\'m\", \" am\", text)\n",
    "    return text\n"
   ]
  },
  {
   "cell_type": "markdown",
   "metadata": {
    "id": "YD4wuY33fSD9"
   },
   "source": [
    "## when using only hasoc"
   ]
  },
  {
   "cell_type": "code",
   "execution_count": 89,
   "metadata": {
    "executionInfo": {
     "elapsed": 614,
     "status": "ok",
     "timestamp": 1638863126362,
     "user": {
      "displayName": "Hrudhvik Nangineni",
      "photoUrl": "https://lh3.googleusercontent.com/a-/AOh14GgSRPSGK4MzcFuX8LcDUtitMsgxtOPYuDYa61cfQQ=s64",
      "userId": "10440684525224406039"
     },
     "user_tz": -330
    },
    "id": "9o6xDERofGyi"
   },
   "outputs": [],
   "source": [
    "hasoc_train[\"text\"]=hasoc_train[\"text\"].apply(lambda x:decontract(x))\n",
    "hasoc_train[\"text\"]=hasoc_train[\"text\"].apply(lambda x:preprocess(x))"
   ]
  },
  {
   "cell_type": "code",
   "execution_count": 90,
   "metadata": {
    "executionInfo": {
     "elapsed": 4,
     "status": "ok",
     "timestamp": 1638863126362,
     "user": {
      "displayName": "Hrudhvik Nangineni",
      "photoUrl": "https://lh3.googleusercontent.com/a-/AOh14GgSRPSGK4MzcFuX8LcDUtitMsgxtOPYuDYa61cfQQ=s64",
      "userId": "10440684525224406039"
     },
     "user_tz": -330
    },
    "id": "clV0gz7IfJlg"
   },
   "outputs": [],
   "source": [
    "train_df, val_df = train_test_split(hasoc_train, test_size = 0.2, random_state = 42)\n",
    "train_tweet=train_df.text\n",
    "val_tweet=val_df.text"
   ]
  },
  {
   "cell_type": "markdown",
   "metadata": {
    "id": "bPo3oUDKfSzu"
   },
   "source": [
    "## when using combined data"
   ]
  },
  {
   "cell_type": "code",
   "execution_count": 65,
   "metadata": {
    "executionInfo": {
     "elapsed": 3101,
     "status": "ok",
     "timestamp": 1638860973168,
     "user": {
      "displayName": "Hrudhvik Nangineni",
      "photoUrl": "https://lh3.googleusercontent.com/a-/AOh14GgSRPSGK4MzcFuX8LcDUtitMsgxtOPYuDYa61cfQQ=s64",
      "userId": "10440684525224406039"
     },
     "user_tz": -330
    },
    "id": "PWF1LqcCfMz6"
   },
   "outputs": [],
   "source": [
    "combined_train[\"text\"]=combined_train[\"text\"].apply(lambda x:decontract(x))\n",
    "combined_train[\"text\"]=combined_train[\"text\"].apply(lambda x:preprocess(x))"
   ]
  },
  {
   "cell_type": "code",
   "execution_count": 66,
   "metadata": {
    "executionInfo": {
     "elapsed": 5,
     "status": "ok",
     "timestamp": 1638860973169,
     "user": {
      "displayName": "Hrudhvik Nangineni",
      "photoUrl": "https://lh3.googleusercontent.com/a-/AOh14GgSRPSGK4MzcFuX8LcDUtitMsgxtOPYuDYa61cfQQ=s64",
      "userId": "10440684525224406039"
     },
     "user_tz": -330
    },
    "id": "Iob0Cp0afOG-"
   },
   "outputs": [],
   "source": [
    "train_df, val_df = train_test_split(combined_train, test_size = 0.2, random_state = 42)\n",
    "train_tweet=train_df.text\n",
    "val_tweet=val_df.text"
   ]
  },
  {
   "cell_type": "markdown",
   "metadata": {
    "id": "4GEyYhHdgbRT"
   },
   "source": [
    "## preprocessing the testdata"
   ]
  },
  {
   "cell_type": "code",
   "execution_count": 91,
   "metadata": {
    "executionInfo": {
     "elapsed": 476,
     "status": "ok",
     "timestamp": 1638863126834,
     "user": {
      "displayName": "Hrudhvik Nangineni",
      "photoUrl": "https://lh3.googleusercontent.com/a-/AOh14GgSRPSGK4MzcFuX8LcDUtitMsgxtOPYuDYa61cfQQ=s64",
      "userId": "10440684525224406039"
     },
     "user_tz": -330
    },
    "id": "qTBxk1O-gC_W"
   },
   "outputs": [],
   "source": [
    "hasoc_test[\"text\"]=hasoc_test[\"text\"].apply(lambda x:decontract(x))\n",
    "hasoc_test[\"text\"]=hasoc_test[\"text\"].apply(lambda x:preprocess(x))"
   ]
  },
  {
   "cell_type": "code",
   "execution_count": 92,
   "metadata": {
    "executionInfo": {
     "elapsed": 13,
     "status": "ok",
     "timestamp": 1638863126835,
     "user": {
      "displayName": "Hrudhvik Nangineni",
      "photoUrl": "https://lh3.googleusercontent.com/a-/AOh14GgSRPSGK4MzcFuX8LcDUtitMsgxtOPYuDYa61cfQQ=s64",
      "userId": "10440684525224406039"
     },
     "user_tz": -330
    },
    "id": "P8jrqQhFgRma"
   },
   "outputs": [],
   "source": [
    "test_tweet=hasoc_test.text"
   ]
  },
  {
   "cell_type": "code",
   "execution_count": 93,
   "metadata": {
    "executionInfo": {
     "elapsed": 13,
     "status": "ok",
     "timestamp": 1638863126835,
     "user": {
      "displayName": "Hrudhvik Nangineni",
      "photoUrl": "https://lh3.googleusercontent.com/a-/AOh14GgSRPSGK4MzcFuX8LcDUtitMsgxtOPYuDYa61cfQQ=s64",
      "userId": "10440684525224406039"
     },
     "user_tz": -330
    },
    "id": "zbvwzmYIhZWY"
   },
   "outputs": [],
   "source": [
    "le=LabelEncoder()"
   ]
  },
  {
   "cell_type": "markdown",
   "metadata": {
    "id": "b62HsrMwhczo"
   },
   "source": [
    "## on evaluation data"
   ]
  },
  {
   "cell_type": "markdown",
   "metadata": {
    "id": "iphBscb6hk1R"
   },
   "source": [
    "for binary data"
   ]
  },
  {
   "cell_type": "code",
   "execution_count": 94,
   "metadata": {
    "executionInfo": {
     "elapsed": 13,
     "status": "ok",
     "timestamp": 1638863126836,
     "user": {
      "displayName": "Hrudhvik Nangineni",
      "photoUrl": "https://lh3.googleusercontent.com/a-/AOh14GgSRPSGK4MzcFuX8LcDUtitMsgxtOPYuDYa61cfQQ=s64",
      "userId": "10440684525224406039"
     },
     "user_tz": -330
    },
    "id": "PF7VFybRhgeM"
   },
   "outputs": [],
   "source": [
    "train_df[\"task_1\"] = le.fit_transform(train_df[\"task_1\"])\n",
    "val_df[\"task_1\"] = le.fit_transform(val_df[\"task_1\"])"
   ]
  },
  {
   "cell_type": "code",
   "execution_count": 95,
   "metadata": {
    "executionInfo": {
     "elapsed": 12,
     "status": "ok",
     "timestamp": 1638863126836,
     "user": {
      "displayName": "Hrudhvik Nangineni",
      "photoUrl": "https://lh3.googleusercontent.com/a-/AOh14GgSRPSGK4MzcFuX8LcDUtitMsgxtOPYuDYa61cfQQ=s64",
      "userId": "10440684525224406039"
     },
     "user_tz": -330
    },
    "id": "jIbWfWm_iB6m"
   },
   "outputs": [],
   "source": [
    "hasoc_test[\"task_1\"]=le.fit_transform(hasoc_test[\"task_1\"])"
   ]
  },
  {
   "cell_type": "markdown",
   "metadata": {
    "id": "1Ehe9duNhm9I"
   },
   "source": [
    "for multiclass data"
   ]
  },
  {
   "cell_type": "code",
   "execution_count": null,
   "metadata": {
    "id": "dXLZY8AUhoux"
   },
   "outputs": [],
   "source": [
    "train_df[\"task_2\"] = le.fit_transform(train_df[\"task_2\"])\n",
    "val_df[\"task_2\"] = le.fit_transform(val_df[\"task_2\"])"
   ]
  },
  {
   "cell_type": "code",
   "execution_count": null,
   "metadata": {
    "id": "HIrSC2B3iC0O"
   },
   "outputs": [],
   "source": [
    "hasoc_test[\"task_2\"]=le.fit_transform(hasoc_test[\"task_2\"])"
   ]
  },
  {
   "cell_type": "markdown",
   "metadata": {
    "id": "vORkb9hXh7bl"
   },
   "source": [
    "## run for both"
   ]
  },
  {
   "cell_type": "code",
   "execution_count": 96,
   "metadata": {
    "executionInfo": {
     "elapsed": 13,
     "status": "ok",
     "timestamp": 1638863126837,
     "user": {
      "displayName": "Hrudhvik Nangineni",
      "photoUrl": "https://lh3.googleusercontent.com/a-/AOh14GgSRPSGK4MzcFuX8LcDUtitMsgxtOPYuDYa61cfQQ=s64",
      "userId": "10440684525224406039"
     },
     "user_tz": -330
    },
    "id": "x4G1pgxVhyap"
   },
   "outputs": [],
   "source": [
    "full_train_tweet=hasoc_train[\"text\"]"
   ]
  },
  {
   "cell_type": "code",
   "execution_count": 97,
   "metadata": {
    "executionInfo": {
     "elapsed": 12,
     "status": "ok",
     "timestamp": 1638863126837,
     "user": {
      "displayName": "Hrudhvik Nangineni",
      "photoUrl": "https://lh3.googleusercontent.com/a-/AOh14GgSRPSGK4MzcFuX8LcDUtitMsgxtOPYuDYa61cfQQ=s64",
      "userId": "10440684525224406039"
     },
     "user_tz": -330
    },
    "id": "Y5TgQknu53BB"
   },
   "outputs": [],
   "source": [
    "full_train_tweet=combined_train[\"text\"] # run this only for combined data"
   ]
  },
  {
   "cell_type": "code",
   "execution_count": 98,
   "metadata": {
    "executionInfo": {
     "elapsed": 12,
     "status": "ok",
     "timestamp": 1638863126837,
     "user": {
      "displayName": "Hrudhvik Nangineni",
      "photoUrl": "https://lh3.googleusercontent.com/a-/AOh14GgSRPSGK4MzcFuX8LcDUtitMsgxtOPYuDYa61cfQQ=s64",
      "userId": "10440684525224406039"
     },
     "user_tz": -330
    },
    "id": "ZJ1-nSM-hzLn"
   },
   "outputs": [],
   "source": [
    "train_tweet=train_df[\"text\"]"
   ]
  },
  {
   "cell_type": "code",
   "execution_count": 99,
   "metadata": {
    "executionInfo": {
     "elapsed": 12,
     "status": "ok",
     "timestamp": 1638863126838,
     "user": {
      "displayName": "Hrudhvik Nangineni",
      "photoUrl": "https://lh3.googleusercontent.com/a-/AOh14GgSRPSGK4MzcFuX8LcDUtitMsgxtOPYuDYa61cfQQ=s64",
      "userId": "10440684525224406039"
     },
     "user_tz": -330
    },
    "id": "aNCj0ctMh1hg"
   },
   "outputs": [],
   "source": [
    "val_tweet=val_df[\"text\"]"
   ]
  },
  {
   "cell_type": "markdown",
   "metadata": {
    "id": "vnERN-TFiWr-"
   },
   "source": [
    "### FOR BINARY"
   ]
  },
  {
   "cell_type": "code",
   "execution_count": 100,
   "metadata": {
    "executionInfo": {
     "elapsed": 12,
     "status": "ok",
     "timestamp": 1638863126838,
     "user": {
      "displayName": "Hrudhvik Nangineni",
      "photoUrl": "https://lh3.googleusercontent.com/a-/AOh14GgSRPSGK4MzcFuX8LcDUtitMsgxtOPYuDYa61cfQQ=s64",
      "userId": "10440684525224406039"
     },
     "user_tz": -330
    },
    "id": "dbUDGAJSiZoB"
   },
   "outputs": [],
   "source": [
    "t1=train_df[\"task_1\"]\n",
    "t2=val_df[\"task_1\"]"
   ]
  },
  {
   "cell_type": "code",
   "execution_count": 101,
   "metadata": {
    "executionInfo": {
     "elapsed": 12,
     "status": "ok",
     "timestamp": 1638863126839,
     "user": {
      "displayName": "Hrudhvik Nangineni",
      "photoUrl": "https://lh3.googleusercontent.com/a-/AOh14GgSRPSGK4MzcFuX8LcDUtitMsgxtOPYuDYa61cfQQ=s64",
      "userId": "10440684525224406039"
     },
     "user_tz": -330
    },
    "id": "5FzogMezieyZ"
   },
   "outputs": [],
   "source": [
    "t3=hasoc_test[\"task_1\"]"
   ]
  },
  {
   "cell_type": "markdown",
   "metadata": {
    "id": "N3b6-NRJianm"
   },
   "source": [
    "## FOR MULTICLASS"
   ]
  },
  {
   "cell_type": "code",
   "execution_count": null,
   "metadata": {
    "id": "Ajn5SjQ_icdv"
   },
   "outputs": [],
   "source": [
    "t4=train_df[\"task_2\"]\n",
    "t5=val_df[\"task_2\"]\n",
    "t6=hasoc_test[\"task_2\"]"
   ]
  },
  {
   "cell_type": "code",
   "execution_count": 26,
   "metadata": {
    "executionInfo": {
     "elapsed": 2,
     "status": "ok",
     "timestamp": 1638860007165,
     "user": {
      "displayName": "Hrudhvik Nangineni",
      "photoUrl": "https://lh3.googleusercontent.com/a-/AOh14GgSRPSGK4MzcFuX8LcDUtitMsgxtOPYuDYa61cfQQ=s64",
      "userId": "10440684525224406039"
     },
     "user_tz": -330
    },
    "id": "RTl-ze58inK6"
   },
   "outputs": [],
   "source": [
    "from sklearn.metrics import classification_report"
   ]
  },
  {
   "cell_type": "markdown",
   "metadata": {
    "id": "6HoQcDxHZUQg"
   },
   "source": [
    "#Basic LSTM model and training\n",
    "\n"
   ]
  },
  {
   "cell_type": "code",
   "execution_count": 102,
   "metadata": {
    "executionInfo": {
     "elapsed": 12,
     "status": "ok",
     "timestamp": 1638863126839,
     "user": {
      "displayName": "Hrudhvik Nangineni",
      "photoUrl": "https://lh3.googleusercontent.com/a-/AOh14GgSRPSGK4MzcFuX8LcDUtitMsgxtOPYuDYa61cfQQ=s64",
      "userId": "10440684525224406039"
     },
     "user_tz": -330
    },
    "id": "kUncgNfvZ8pe"
   },
   "outputs": [],
   "source": [
    "top_words = 6000    #top 6000 words in the vocabulary\n",
    "max_review_length = 130  #maximum sentence length\n",
    "embedding_vector_length = 32  #each word is mapped to a 32 dimensional vector\n",
    "tokenizer = Tokenizer(num_words=top_words) # top 6000 are getting tokenized\n",
    "tokenizer.fit_on_texts(train_tweet)\n",
    "list_tokenized_train = tokenizer.texts_to_sequences(train_tweet) # text data is converted to sequence data"
   ]
  },
  {
   "cell_type": "markdown",
   "metadata": {
    "id": "BoNy3ZTdz0Ki"
   },
   "source": [
    "## run this for binary only"
   ]
  },
  {
   "cell_type": "code",
   "execution_count": 103,
   "metadata": {
    "executionInfo": {
     "elapsed": 12,
     "status": "ok",
     "timestamp": 1638863126839,
     "user": {
      "displayName": "Hrudhvik Nangineni",
      "photoUrl": "https://lh3.googleusercontent.com/a-/AOh14GgSRPSGK4MzcFuX8LcDUtitMsgxtOPYuDYa61cfQQ=s64",
      "userId": "10440684525224406039"
     },
     "user_tz": -330
    },
    "id": "KrUUbvDmpyi4"
   },
   "outputs": [],
   "source": [
    "X_train = pad_sequences(list_tokenized_train, maxlen=max_review_length)  # making all input sequence into same length\n",
    "y_train = t1"
   ]
  },
  {
   "cell_type": "code",
   "execution_count": 104,
   "metadata": {
    "colab": {
     "base_uri": "https://localhost:8080/"
    },
    "executionInfo": {
     "elapsed": 357,
     "status": "ok",
     "timestamp": 1638863127185,
     "user": {
      "displayName": "Hrudhvik Nangineni",
      "photoUrl": "https://lh3.googleusercontent.com/a-/AOh14GgSRPSGK4MzcFuX8LcDUtitMsgxtOPYuDYa61cfQQ=s64",
      "userId": "10440684525224406039"
     },
     "user_tz": -330
    },
    "id": "QEgmIWYjbuKn",
    "outputId": "fc4d1250-0f78-4198-83e8-bce6dd7e3c5f"
   },
   "outputs": [
    {
     "name": "stdout",
     "output_type": "stream",
     "text": [
      "Model: \"sequential_4\"\n",
      "_________________________________________________________________\n",
      " Layer (type)                Output Shape              Param #   \n",
      "=================================================================\n",
      " embedding_4 (Embedding)     (None, 130, 32)           192032    \n",
      "                                                                 \n",
      " lstm_4 (LSTM)               (None, 100)               53200     \n",
      "                                                                 \n",
      " dense_4 (Dense)             (None, 1)                 101       \n",
      "                                                                 \n",
      "=================================================================\n",
      "Total params: 245,333\n",
      "Trainable params: 245,333\n",
      "Non-trainable params: 0\n",
      "_________________________________________________________________\n"
     ]
    }
   ],
   "source": [
    "model = Sequential()  \n",
    "model.add(Embedding(top_words+1, embedding_vector_length, input_length=max_review_length)) \n",
    "model.add(LSTM(100))\n",
    "model.add(Dense(1, activation='relu'))\n",
    "model.compile(loss='binary_crossentropy', optimizer='adam', metrics=['accuracy'])\n",
    "model.summary()"
   ]
  },
  {
   "cell_type": "markdown",
   "metadata": {
    "id": "M31QjCJti9pm"
   },
   "source": [
    "### for binary classification"
   ]
  },
  {
   "cell_type": "code",
   "execution_count": 105,
   "metadata": {
    "colab": {
     "base_uri": "https://localhost:8080/"
    },
    "executionInfo": {
     "elapsed": 219558,
     "status": "ok",
     "timestamp": 1638863346740,
     "user": {
      "displayName": "Hrudhvik Nangineni",
      "photoUrl": "https://lh3.googleusercontent.com/a-/AOh14GgSRPSGK4MzcFuX8LcDUtitMsgxtOPYuDYa61cfQQ=s64",
      "userId": "10440684525224406039"
     },
     "user_tz": -330
    },
    "id": "1oNjWcyycPjv",
    "outputId": "55e5ec4d-41f3-4db6-8798-cd5559105400"
   },
   "outputs": [
    {
     "name": "stdout",
     "output_type": "stream",
     "text": [
      "Epoch 1/30\n",
      "49/49 [==============================] - 9s 148ms/step - loss: 0.7730 - accuracy: 0.6295\n",
      "Epoch 2/30\n",
      "49/49 [==============================] - 7s 148ms/step - loss: 0.5313 - accuracy: 0.7115\n",
      "Epoch 3/30\n",
      "49/49 [==============================] - 7s 146ms/step - loss: 0.3840 - accuracy: 0.8679\n",
      "Epoch 4/30\n",
      "49/49 [==============================] - 7s 148ms/step - loss: 0.4747 - accuracy: 0.8774\n",
      "Epoch 5/30\n",
      "49/49 [==============================] - 7s 149ms/step - loss: 0.2045 - accuracy: 0.9258\n",
      "Epoch 6/30\n",
      "49/49 [==============================] - 7s 147ms/step - loss: 0.1471 - accuracy: 0.9486\n",
      "Epoch 7/30\n",
      "49/49 [==============================] - 7s 148ms/step - loss: 0.1217 - accuracy: 0.9655\n",
      "Epoch 8/30\n",
      "49/49 [==============================] - 7s 149ms/step - loss: 0.1048 - accuracy: 0.9736\n",
      "Epoch 9/30\n",
      "49/49 [==============================] - 7s 149ms/step - loss: 0.2009 - accuracy: 0.9525\n",
      "Epoch 10/30\n",
      "49/49 [==============================] - 7s 149ms/step - loss: 0.1220 - accuracy: 0.9750\n",
      "Epoch 11/30\n",
      "49/49 [==============================] - 7s 150ms/step - loss: 0.0936 - accuracy: 0.9828\n",
      "Epoch 12/30\n",
      "49/49 [==============================] - 7s 148ms/step - loss: 0.0930 - accuracy: 0.9834\n",
      "Epoch 13/30\n",
      "49/49 [==============================] - 7s 149ms/step - loss: 0.1030 - accuracy: 0.9867\n",
      "Epoch 14/30\n",
      "49/49 [==============================] - 7s 150ms/step - loss: 0.0933 - accuracy: 0.9873\n",
      "Epoch 15/30\n",
      "49/49 [==============================] - 7s 149ms/step - loss: 0.1037 - accuracy: 0.9886\n",
      "Epoch 16/30\n",
      "49/49 [==============================] - 7s 147ms/step - loss: 0.1080 - accuracy: 0.9896\n",
      "Epoch 17/30\n",
      "49/49 [==============================] - 7s 147ms/step - loss: 0.1057 - accuracy: 0.9893\n",
      "Epoch 18/30\n",
      "49/49 [==============================] - 7s 147ms/step - loss: 0.1050 - accuracy: 0.9909\n",
      "Epoch 19/30\n",
      "49/49 [==============================] - 7s 147ms/step - loss: 0.1039 - accuracy: 0.9886\n",
      "Epoch 20/30\n",
      "49/49 [==============================] - 7s 148ms/step - loss: 0.1140 - accuracy: 0.9912\n",
      "Epoch 21/30\n",
      "49/49 [==============================] - 7s 147ms/step - loss: 1.8884 - accuracy: 0.7895\n",
      "Epoch 22/30\n",
      "49/49 [==============================] - 7s 148ms/step - loss: 0.7542 - accuracy: 0.8569\n",
      "Epoch 23/30\n",
      "49/49 [==============================] - 7s 147ms/step - loss: 0.6971 - accuracy: 0.8725\n",
      "Epoch 24/30\n",
      "49/49 [==============================] - 7s 149ms/step - loss: 0.4160 - accuracy: 0.9265\n",
      "Epoch 25/30\n",
      "49/49 [==============================] - 7s 146ms/step - loss: 0.3031 - accuracy: 0.9541\n",
      "Epoch 26/30\n",
      "49/49 [==============================] - 7s 146ms/step - loss: 0.2497 - accuracy: 0.9655\n",
      "Epoch 27/30\n",
      "49/49 [==============================] - 7s 146ms/step - loss: 0.2196 - accuracy: 0.9707\n",
      "Epoch 28/30\n",
      "49/49 [==============================] - 7s 147ms/step - loss: 0.2075 - accuracy: 0.9736\n",
      "Epoch 29/30\n",
      "49/49 [==============================] - 7s 147ms/step - loss: 0.1718 - accuracy: 0.9740\n",
      "Epoch 30/30\n",
      "49/49 [==============================] - 7s 147ms/step - loss: 0.1467 - accuracy: 0.9753\n"
     ]
    }
   ],
   "source": [
    "history = model.fit(X_train,y_train, epochs=30, batch_size=64)"
   ]
  },
  {
   "cell_type": "markdown",
   "metadata": {
    "id": "3RzXaWYHqxCK"
   },
   "source": [
    "###On Evaluation data"
   ]
  },
  {
   "cell_type": "code",
   "execution_count": 106,
   "metadata": {
    "colab": {
     "base_uri": "https://localhost:8080/"
    },
    "executionInfo": {
     "elapsed": 1220,
     "status": "ok",
     "timestamp": 1638863347951,
     "user": {
      "displayName": "Hrudhvik Nangineni",
      "photoUrl": "https://lh3.googleusercontent.com/a-/AOh14GgSRPSGK4MzcFuX8LcDUtitMsgxtOPYuDYa61cfQQ=s64",
      "userId": "10440684525224406039"
     },
     "user_tz": -330
    },
    "id": "B_SqoAY7eLf0",
    "outputId": "7b0f087d-ce2b-4036-9a86-fa580b5f05ca"
   },
   "outputs": [
    {
     "name": "stdout",
     "output_type": "stream",
     "text": [
      "Accuracy of the model :  0.7581274382314694\n",
      "F1-score:  0.6172839506172839\n",
      "Confusion matrix:\n"
     ]
    },
    {
     "data": {
      "text/plain": [
       "array([[433,  96],\n",
       "       [ 90, 150]])"
      ]
     },
     "execution_count": 106,
     "metadata": {},
     "output_type": "execute_result"
    }
   ],
   "source": [
    "list_tokenized_test = tokenizer.texts_to_sequences(val_df['text'])\n",
    "X_test = pad_sequences(list_tokenized_test, maxlen=max_review_length)\n",
    "y_test = t2\n",
    "prediction = model.predict(X_test)\n",
    "y_pred = (prediction > 0.5)\n",
    "print(\"Accuracy of the model : \", accuracy_score(y_pred, y_test))\n",
    "print('F1-score: ', f1_score(y_pred, y_test))\n",
    "print('Confusion matrix:')\n",
    "confusion_matrix(y_test,y_pred)"
   ]
  },
  {
   "cell_type": "code",
   "execution_count": 107,
   "metadata": {
    "colab": {
     "base_uri": "https://localhost:8080/"
    },
    "executionInfo": {
     "elapsed": 5,
     "status": "ok",
     "timestamp": 1638863347952,
     "user": {
      "displayName": "Hrudhvik Nangineni",
      "photoUrl": "https://lh3.googleusercontent.com/a-/AOh14GgSRPSGK4MzcFuX8LcDUtitMsgxtOPYuDYa61cfQQ=s64",
      "userId": "10440684525224406039"
     },
     "user_tz": -330
    },
    "id": "vG9oH7utsPjG",
    "outputId": "0a919b0b-270b-4d8f-8b8c-d2552b42b14e"
   },
   "outputs": [
    {
     "name": "stdout",
     "output_type": "stream",
     "text": [
      "              precision    recall  f1-score   support\n",
      "\n",
      "           0       0.83      0.82      0.82       529\n",
      "           1       0.61      0.62      0.62       240\n",
      "\n",
      "    accuracy                           0.76       769\n",
      "   macro avg       0.72      0.72      0.72       769\n",
      "weighted avg       0.76      0.76      0.76       769\n",
      "\n"
     ]
    }
   ],
   "source": [
    " print(classification_report(y_test,y_pred))"
   ]
  },
  {
   "cell_type": "markdown",
   "metadata": {
    "id": "jcnseqWztOzq"
   },
   "source": [
    "### on test data"
   ]
  },
  {
   "cell_type": "code",
   "execution_count": 108,
   "metadata": {
    "colab": {
     "base_uri": "https://localhost:8080/"
    },
    "executionInfo": {
     "elapsed": 1131,
     "status": "ok",
     "timestamp": 1638863349081,
     "user": {
      "displayName": "Hrudhvik Nangineni",
      "photoUrl": "https://lh3.googleusercontent.com/a-/AOh14GgSRPSGK4MzcFuX8LcDUtitMsgxtOPYuDYa61cfQQ=s64",
      "userId": "10440684525224406039"
     },
     "user_tz": -330
    },
    "id": "QcSQVeoGt2Nf",
    "outputId": "8d53e37f-b389-4c59-f670-e3fe47626f0b"
   },
   "outputs": [
    {
     "name": "stdout",
     "output_type": "stream",
     "text": [
      "Accuracy of the model :  0.7244340359094458\n",
      "F1-score:  0.6175514626218851\n",
      "Confusion matrix:\n"
     ]
    },
    {
     "data": {
      "text/plain": [
       "array([[643, 155],\n",
       "       [198, 285]])"
      ]
     },
     "execution_count": 108,
     "metadata": {},
     "output_type": "execute_result"
    }
   ],
   "source": [
    "list_tokenized_test = tokenizer.texts_to_sequences(hasoc_test['text'])\n",
    "X_test = pad_sequences(list_tokenized_test, maxlen=max_review_length)\n",
    "y_test = t3\n",
    "prediction = model.predict(X_test)\n",
    "y_pred = (prediction > 0.5)\n",
    "print(\"Accuracy of the model : \", accuracy_score(y_pred, y_test))\n",
    "print('F1-score: ', f1_score(y_pred, y_test))\n",
    "print('Confusion matrix:')\n",
    "confusion_matrix(y_test,y_pred)"
   ]
  },
  {
   "cell_type": "code",
   "execution_count": 109,
   "metadata": {
    "colab": {
     "base_uri": "https://localhost:8080/"
    },
    "executionInfo": {
     "elapsed": 10,
     "status": "ok",
     "timestamp": 1638863349082,
     "user": {
      "displayName": "Hrudhvik Nangineni",
      "photoUrl": "https://lh3.googleusercontent.com/a-/AOh14GgSRPSGK4MzcFuX8LcDUtitMsgxtOPYuDYa61cfQQ=s64",
      "userId": "10440684525224406039"
     },
     "user_tz": -330
    },
    "id": "TC9mBFcXseYC",
    "outputId": "63f0c0ac-5189-4eea-eaaa-4c787d235901"
   },
   "outputs": [
    {
     "name": "stdout",
     "output_type": "stream",
     "text": [
      "              precision    recall  f1-score   support\n",
      "\n",
      "           0       0.76      0.81      0.78       798\n",
      "           1       0.65      0.59      0.62       483\n",
      "\n",
      "    accuracy                           0.72      1281\n",
      "   macro avg       0.71      0.70      0.70      1281\n",
      "weighted avg       0.72      0.72      0.72      1281\n",
      "\n"
     ]
    }
   ],
   "source": [
    " print(classification_report(y_test,y_pred))"
   ]
  },
  {
   "cell_type": "markdown",
   "metadata": {
    "id": "70zd2TpZ6xK9"
   },
   "source": [
    "## run this for Combined only"
   ]
  },
  {
   "cell_type": "code",
   "execution_count": 79,
   "metadata": {
    "executionInfo": {
     "elapsed": 343,
     "status": "ok",
     "timestamp": 1638861048753,
     "user": {
      "displayName": "Hrudhvik Nangineni",
      "photoUrl": "https://lh3.googleusercontent.com/a-/AOh14GgSRPSGK4MzcFuX8LcDUtitMsgxtOPYuDYa61cfQQ=s64",
      "userId": "10440684525224406039"
     },
     "user_tz": -330
    },
    "id": "UZthoVpe6xK-"
   },
   "outputs": [],
   "source": [
    "X_train = pad_sequences(list_tokenized_train, maxlen=max_review_length)\n",
    "y_train = t1"
   ]
  },
  {
   "cell_type": "code",
   "execution_count": 80,
   "metadata": {
    "colab": {
     "base_uri": "https://localhost:8080/"
    },
    "executionInfo": {
     "elapsed": 613,
     "status": "ok",
     "timestamp": 1638861050844,
     "user": {
      "displayName": "Hrudhvik Nangineni",
      "photoUrl": "https://lh3.googleusercontent.com/a-/AOh14GgSRPSGK4MzcFuX8LcDUtitMsgxtOPYuDYa61cfQQ=s64",
      "userId": "10440684525224406039"
     },
     "user_tz": -330
    },
    "id": "uTWhfk-O6xK_",
    "outputId": "0ddd9870-51fd-47e9-cdad-0dd3fce78cd0"
   },
   "outputs": [
    {
     "name": "stdout",
     "output_type": "stream",
     "text": [
      "Model: \"sequential_3\"\n",
      "_________________________________________________________________\n",
      " Layer (type)                Output Shape              Param #   \n",
      "=================================================================\n",
      " embedding_3 (Embedding)     (None, 130, 32)           192032    \n",
      "                                                                 \n",
      " lstm_3 (LSTM)               (None, 100)               53200     \n",
      "                                                                 \n",
      " dense_3 (Dense)             (None, 1)                 101       \n",
      "                                                                 \n",
      "=================================================================\n",
      "Total params: 245,333\n",
      "Trainable params: 245,333\n",
      "Non-trainable params: 0\n",
      "_________________________________________________________________\n"
     ]
    }
   ],
   "source": [
    "model = Sequential()  \n",
    "model.add(Embedding(top_words+1, embedding_vector_length, input_length=max_review_length))\n",
    "model.add(LSTM(100))\n",
    "model.add(Dense(1, activation='relu'))\n",
    "model.compile(loss='binary_crossentropy', optimizer='adam', metrics=['accuracy'])\n",
    "model.summary()"
   ]
  },
  {
   "cell_type": "code",
   "execution_count": 81,
   "metadata": {
    "colab": {
     "base_uri": "https://localhost:8080/"
    },
    "executionInfo": {
     "elapsed": 2064470,
     "status": "ok",
     "timestamp": 1638863117200,
     "user": {
      "displayName": "Hrudhvik Nangineni",
      "photoUrl": "https://lh3.googleusercontent.com/a-/AOh14GgSRPSGK4MzcFuX8LcDUtitMsgxtOPYuDYa61cfQQ=s64",
      "userId": "10440684525224406039"
     },
     "user_tz": -330
    },
    "id": "grSHTee46xLA",
    "outputId": "25219e2d-5c94-4c4d-df86-dc231bbdc330"
   },
   "outputs": [
    {
     "name": "stdout",
     "output_type": "stream",
     "text": [
      "Epoch 1/30\n",
      "448/448 [==============================] - 70s 150ms/step - loss: 2.0482 - accuracy: 0.8495\n",
      "Epoch 2/30\n",
      "448/448 [==============================] - 67s 150ms/step - loss: 2.0219 - accuracy: 0.8674\n",
      "Epoch 3/30\n",
      "448/448 [==============================] - 68s 151ms/step - loss: 2.0219 - accuracy: 0.8674\n",
      "Epoch 4/30\n",
      "448/448 [==============================] - 68s 152ms/step - loss: 2.0219 - accuracy: 0.8674\n",
      "Epoch 5/30\n",
      "448/448 [==============================] - 68s 152ms/step - loss: 2.0219 - accuracy: 0.8674\n",
      "Epoch 6/30\n",
      "448/448 [==============================] - 68s 151ms/step - loss: 2.0219 - accuracy: 0.8674\n",
      "Epoch 7/30\n",
      "448/448 [==============================] - 67s 150ms/step - loss: 2.0219 - accuracy: 0.8674\n",
      "Epoch 8/30\n",
      "448/448 [==============================] - 67s 150ms/step - loss: 2.0219 - accuracy: 0.8674\n",
      "Epoch 9/30\n",
      "448/448 [==============================] - 68s 151ms/step - loss: 2.0219 - accuracy: 0.8674\n",
      "Epoch 10/30\n",
      "448/448 [==============================] - 67s 151ms/step - loss: 2.0219 - accuracy: 0.8674\n",
      "Epoch 11/30\n",
      "448/448 [==============================] - 67s 150ms/step - loss: 2.0219 - accuracy: 0.8674\n",
      "Epoch 12/30\n",
      "448/448 [==============================] - 67s 149ms/step - loss: 2.0219 - accuracy: 0.8674\n",
      "Epoch 13/30\n",
      "448/448 [==============================] - 67s 149ms/step - loss: 2.0219 - accuracy: 0.8674\n",
      "Epoch 14/30\n",
      "448/448 [==============================] - 67s 149ms/step - loss: 2.0219 - accuracy: 0.8674\n",
      "Epoch 15/30\n",
      "448/448 [==============================] - 67s 150ms/step - loss: 2.0219 - accuracy: 0.8674\n",
      "Epoch 16/30\n",
      "448/448 [==============================] - 66s 148ms/step - loss: 2.0219 - accuracy: 0.8674\n",
      "Epoch 17/30\n",
      "448/448 [==============================] - 67s 149ms/step - loss: 2.0219 - accuracy: 0.8674\n",
      "Epoch 18/30\n",
      "448/448 [==============================] - 67s 150ms/step - loss: 2.0219 - accuracy: 0.8674\n",
      "Epoch 19/30\n",
      "448/448 [==============================] - 67s 149ms/step - loss: 2.0219 - accuracy: 0.8674\n",
      "Epoch 20/30\n",
      "448/448 [==============================] - 67s 148ms/step - loss: 2.0219 - accuracy: 0.8674\n",
      "Epoch 21/30\n",
      "448/448 [==============================] - 66s 148ms/step - loss: 2.0219 - accuracy: 0.8674\n",
      "Epoch 22/30\n",
      "448/448 [==============================] - 67s 149ms/step - loss: 2.0219 - accuracy: 0.8674\n",
      "Epoch 23/30\n",
      "448/448 [==============================] - 67s 149ms/step - loss: 2.0219 - accuracy: 0.8674\n",
      "Epoch 24/30\n",
      "448/448 [==============================] - 67s 149ms/step - loss: 2.0219 - accuracy: 0.8674\n",
      "Epoch 25/30\n",
      "448/448 [==============================] - 67s 149ms/step - loss: 2.0219 - accuracy: 0.8674\n",
      "Epoch 26/30\n",
      "448/448 [==============================] - 67s 149ms/step - loss: 2.0219 - accuracy: 0.8674\n",
      "Epoch 27/30\n",
      "448/448 [==============================] - 67s 150ms/step - loss: 2.0219 - accuracy: 0.8674\n",
      "Epoch 28/30\n",
      "448/448 [==============================] - 67s 150ms/step - loss: 2.0219 - accuracy: 0.8674\n",
      "Epoch 29/30\n",
      "448/448 [==============================] - 67s 149ms/step - loss: 2.0219 - accuracy: 0.8674\n",
      "Epoch 30/30\n",
      "448/448 [==============================] - 67s 149ms/step - loss: 2.0219 - accuracy: 0.8674\n"
     ]
    }
   ],
   "source": [
    "history = model.fit(X_train,y_train, epochs=30, batch_size=64)"
   ]
  },
  {
   "cell_type": "markdown",
   "metadata": {
    "id": "xs1KDhOw6xLB"
   },
   "source": [
    "###On Evaluation data"
   ]
  },
  {
   "cell_type": "code",
   "execution_count": 82,
   "metadata": {
    "colab": {
     "base_uri": "https://localhost:8080/"
    },
    "executionInfo": {
     "elapsed": 6331,
     "status": "ok",
     "timestamp": 1638863123518,
     "user": {
      "displayName": "Hrudhvik Nangineni",
      "photoUrl": "https://lh3.googleusercontent.com/a-/AOh14GgSRPSGK4MzcFuX8LcDUtitMsgxtOPYuDYa61cfQQ=s64",
      "userId": "10440684525224406039"
     },
     "user_tz": -330
    },
    "id": "tj8AaeiY6xLB",
    "outputId": "1550d865-6222-48a5-d378-64b0dc8a83ee"
   },
   "outputs": [
    {
     "name": "stdout",
     "output_type": "stream",
     "text": [
      "Accuracy of the model :  0.8680351906158358\n",
      "F1-score:  0.9293563579277865\n",
      "Confusion matrix:\n"
     ]
    },
    {
     "data": {
      "text/plain": [
       "array([[   0,  945],\n",
       "       [   0, 6216]])"
      ]
     },
     "execution_count": 82,
     "metadata": {},
     "output_type": "execute_result"
    }
   ],
   "source": [
    "list_tokenized_test = tokenizer.texts_to_sequences(val_df['text'])\n",
    "X_test = pad_sequences(list_tokenized_test, maxlen=max_review_length)\n",
    "y_test = t2\n",
    "prediction = model.predict(X_test)\n",
    "y_pred = (prediction > 0.5)\n",
    "print(\"Accuracy of the model : \", accuracy_score(y_pred, y_test))\n",
    "print('F1-score: ', f1_score(y_pred, y_test))\n",
    "print('Confusion matrix:')\n",
    "confusion_matrix(y_test,y_pred)"
   ]
  },
  {
   "cell_type": "code",
   "execution_count": 83,
   "metadata": {
    "colab": {
     "base_uri": "https://localhost:8080/"
    },
    "executionInfo": {
     "elapsed": 5,
     "status": "ok",
     "timestamp": 1638863123519,
     "user": {
      "displayName": "Hrudhvik Nangineni",
      "photoUrl": "https://lh3.googleusercontent.com/a-/AOh14GgSRPSGK4MzcFuX8LcDUtitMsgxtOPYuDYa61cfQQ=s64",
      "userId": "10440684525224406039"
     },
     "user_tz": -330
    },
    "id": "0t4AL4CEsyQk",
    "outputId": "5002ce4b-f61d-403e-b5fe-9b2404da2be0"
   },
   "outputs": [
    {
     "name": "stdout",
     "output_type": "stream",
     "text": [
      "              precision    recall  f1-score   support\n",
      "\n",
      "           0       0.00      0.00      0.00       945\n",
      "           1       0.87      1.00      0.93      6216\n",
      "\n",
      "    accuracy                           0.87      7161\n",
      "   macro avg       0.43      0.50      0.46      7161\n",
      "weighted avg       0.75      0.87      0.81      7161\n",
      "\n"
     ]
    }
   ],
   "source": [
    " print(classification_report(y_test,y_pred))"
   ]
  },
  {
   "cell_type": "markdown",
   "metadata": {
    "id": "zcHxzspC6xLC"
   },
   "source": [
    "### on test data"
   ]
  },
  {
   "cell_type": "code",
   "execution_count": 84,
   "metadata": {
    "colab": {
     "base_uri": "https://localhost:8080/"
    },
    "executionInfo": {
     "elapsed": 1243,
     "status": "ok",
     "timestamp": 1638863124760,
     "user": {
      "displayName": "Hrudhvik Nangineni",
      "photoUrl": "https://lh3.googleusercontent.com/a-/AOh14GgSRPSGK4MzcFuX8LcDUtitMsgxtOPYuDYa61cfQQ=s64",
      "userId": "10440684525224406039"
     },
     "user_tz": -330
    },
    "id": "d-_dkler6xLC",
    "outputId": "aa5cf4a7-ca04-4319-85e0-be8d890a33c2"
   },
   "outputs": [
    {
     "name": "stdout",
     "output_type": "stream",
     "text": [
      "Accuracy of the model :  0.3770491803278688\n",
      "F1-score:  0.5476190476190476\n",
      "Confusion matrix:\n"
     ]
    },
    {
     "data": {
      "text/plain": [
       "array([[  0, 798],\n",
       "       [  0, 483]])"
      ]
     },
     "execution_count": 84,
     "metadata": {},
     "output_type": "execute_result"
    }
   ],
   "source": [
    "list_tokenized_test = tokenizer.texts_to_sequences(hasoc_test['text'])\n",
    "X_test = pad_sequences(list_tokenized_test, maxlen=max_review_length)\n",
    "y_test = t3\n",
    "prediction = model.predict(X_test)\n",
    "y_pred = (prediction > 0.5)\n",
    "print(\"Accuracy of the model : \", accuracy_score(y_pred, y_test))\n",
    "print('F1-score: ', f1_score(y_pred, y_test))\n",
    "print('Confusion matrix:')\n",
    "confusion_matrix(y_test,y_pred)"
   ]
  },
  {
   "cell_type": "code",
   "execution_count": 85,
   "metadata": {
    "colab": {
     "base_uri": "https://localhost:8080/"
    },
    "executionInfo": {
     "elapsed": 18,
     "status": "ok",
     "timestamp": 1638863124761,
     "user": {
      "displayName": "Hrudhvik Nangineni",
      "photoUrl": "https://lh3.googleusercontent.com/a-/AOh14GgSRPSGK4MzcFuX8LcDUtitMsgxtOPYuDYa61cfQQ=s64",
      "userId": "10440684525224406039"
     },
     "user_tz": -330
    },
    "id": "TcUPANk5sz5D",
    "outputId": "f10c53ac-3b8f-49fc-dd2b-b0d7f7520558"
   },
   "outputs": [
    {
     "name": "stdout",
     "output_type": "stream",
     "text": [
      "              precision    recall  f1-score   support\n",
      "\n",
      "           0       0.00      0.00      0.00       798\n",
      "           1       0.38      1.00      0.55       483\n",
      "\n",
      "    accuracy                           0.38      1281\n",
      "   macro avg       0.19      0.50      0.27      1281\n",
      "weighted avg       0.14      0.38      0.21      1281\n",
      "\n"
     ]
    }
   ],
   "source": [
    " print(classification_report(y_test,y_pred))"
   ]
  },
  {
   "cell_type": "markdown",
   "metadata": {
    "id": "hErbX2DxwZD-"
   },
   "source": [
    "## for multiclass"
   ]
  },
  {
   "cell_type": "code",
   "execution_count": null,
   "metadata": {
    "id": "ei2bFzxtz8UR"
   },
   "outputs": [],
   "source": [
    "X_train = pad_sequences(list_tokenized_train, maxlen=max_review_length)\n",
    "y_train = t4"
   ]
  },
  {
   "cell_type": "code",
   "execution_count": null,
   "metadata": {
    "colab": {
     "base_uri": "https://localhost:8080/"
    },
    "executionInfo": {
     "elapsed": 380,
     "status": "ok",
     "timestamp": 1637587351881,
     "user": {
      "displayName": "Rohan avireddy",
      "photoUrl": "https://lh3.googleusercontent.com/a-/AOh14GgDeaM2VSkZlXpIHSVTwhK0x_dzKWLzWzLXidXd=s64",
      "userId": "16070926612337581285"
     },
     "user_tz": -330
    },
    "id": "3NvbNcDVxz4Q",
    "outputId": "798b3bbf-b1a2-4167-8f0e-e3419917a698"
   },
   "outputs": [
    {
     "name": "stdout",
     "output_type": "stream",
     "text": [
      "Model: \"sequential_1\"\n",
      "_________________________________________________________________\n",
      " Layer (type)                Output Shape              Param #   \n",
      "=================================================================\n",
      " embedding (Embedding)       (None, 130, 32)           192032    \n",
      "                                                                 \n",
      " lstm (LSTM)                 (None, 100)               53200     \n",
      "                                                                 \n",
      " dense (Dense)               (None, 1)                 101       \n",
      "                                                                 \n",
      "=================================================================\n",
      "Total params: 245,333\n",
      "Trainable params: 245,333\n",
      "Non-trainable params: 0\n",
      "_________________________________________________________________\n"
     ]
    }
   ],
   "source": [
    "model = Sequential()  \n",
    "model.add(Embedding(top_words+1, embedding_vector_length, input_length=max_review_length))\n",
    "model.add(LSTM(100))\n",
    "model.add(Dense(1, activation='relu'))\n",
    "model.compile(loss='categorical_crossentropy', optimizer='adam', metrics=['accuracy'])\n",
    "model.summary()"
   ]
  },
  {
   "cell_type": "code",
   "execution_count": null,
   "metadata": {
    "colab": {
     "base_uri": "https://localhost:8080/"
    },
    "executionInfo": {
     "elapsed": 264578,
     "status": "ok",
     "timestamp": 1637587623203,
     "user": {
      "displayName": "Rohan avireddy",
      "photoUrl": "https://lh3.googleusercontent.com/a-/AOh14GgDeaM2VSkZlXpIHSVTwhK0x_dzKWLzWzLXidXd=s64",
      "userId": "16070926612337581285"
     },
     "user_tz": -330
    },
    "id": "ax5YVBYzwcib",
    "outputId": "7491b316-4956-49c4-a824-789237b5817a"
   },
   "outputs": [
    {
     "name": "stdout",
     "output_type": "stream",
     "text": [
      "Epoch 1/30\n",
      "49/49 [==============================] - 10s 154ms/step - loss: nan - accuracy: 0.1763\n",
      "Epoch 2/30\n",
      "49/49 [==============================] - 7s 150ms/step - loss: nan - accuracy: 0.1763\n",
      "Epoch 3/30\n",
      "49/49 [==============================] - 7s 150ms/step - loss: nan - accuracy: 0.1763\n",
      "Epoch 4/30\n",
      "49/49 [==============================] - 7s 149ms/step - loss: nan - accuracy: 0.1763\n",
      "Epoch 5/30\n",
      "49/49 [==============================] - 7s 151ms/step - loss: nan - accuracy: 0.1763\n",
      "Epoch 6/30\n",
      "49/49 [==============================] - 7s 149ms/step - loss: nan - accuracy: 0.1763\n",
      "Epoch 7/30\n",
      "49/49 [==============================] - 7s 151ms/step - loss: nan - accuracy: 0.1763\n",
      "Epoch 8/30\n",
      "49/49 [==============================] - 7s 152ms/step - loss: nan - accuracy: 0.1763\n",
      "Epoch 9/30\n",
      "49/49 [==============================] - 7s 151ms/step - loss: nan - accuracy: 0.1763\n",
      "Epoch 10/30\n",
      "49/49 [==============================] - 7s 150ms/step - loss: nan - accuracy: 0.1763\n",
      "Epoch 11/30\n",
      "49/49 [==============================] - 7s 151ms/step - loss: nan - accuracy: 0.1763\n",
      "Epoch 12/30\n",
      "49/49 [==============================] - 7s 151ms/step - loss: nan - accuracy: 0.1763\n",
      "Epoch 13/30\n",
      "49/49 [==============================] - 8s 154ms/step - loss: nan - accuracy: 0.1763\n",
      "Epoch 14/30\n",
      "49/49 [==============================] - 7s 153ms/step - loss: nan - accuracy: 0.1763\n",
      "Epoch 15/30\n",
      "49/49 [==============================] - 7s 152ms/step - loss: nan - accuracy: 0.1763\n",
      "Epoch 16/30\n",
      "49/49 [==============================] - 7s 152ms/step - loss: nan - accuracy: 0.1763\n",
      "Epoch 17/30\n",
      "49/49 [==============================] - 8s 162ms/step - loss: nan - accuracy: 0.1763\n",
      "Epoch 18/30\n",
      "49/49 [==============================] - 8s 159ms/step - loss: nan - accuracy: 0.1763\n",
      "Epoch 19/30\n",
      "49/49 [==============================] - 8s 158ms/step - loss: nan - accuracy: 0.1763\n",
      "Epoch 20/30\n",
      "49/49 [==============================] - 8s 159ms/step - loss: nan - accuracy: 0.1763\n",
      "Epoch 21/30\n",
      "49/49 [==============================] - 8s 158ms/step - loss: nan - accuracy: 0.1763\n",
      "Epoch 22/30\n",
      "49/49 [==============================] - 8s 158ms/step - loss: nan - accuracy: 0.1763\n",
      "Epoch 23/30\n",
      "49/49 [==============================] - 8s 160ms/step - loss: nan - accuracy: 0.1763\n",
      "Epoch 24/30\n",
      "49/49 [==============================] - 8s 158ms/step - loss: nan - accuracy: 0.1763\n",
      "Epoch 25/30\n",
      "49/49 [==============================] - 8s 161ms/step - loss: nan - accuracy: 0.1763\n",
      "Epoch 26/30\n",
      "49/49 [==============================] - 8s 160ms/step - loss: nan - accuracy: 0.1763\n",
      "Epoch 27/30\n",
      "49/49 [==============================] - 8s 160ms/step - loss: nan - accuracy: 0.1763\n",
      "Epoch 28/30\n",
      "49/49 [==============================] - 8s 159ms/step - loss: nan - accuracy: 0.1763\n",
      "Epoch 29/30\n",
      "49/49 [==============================] - 8s 161ms/step - loss: nan - accuracy: 0.1763\n",
      "Epoch 30/30\n",
      "49/49 [==============================] - 8s 162ms/step - loss: nan - accuracy: 0.1763\n"
     ]
    }
   ],
   "source": [
    "history = model.fit(X_train,y_train, epochs=30, batch_size=64)"
   ]
  },
  {
   "cell_type": "markdown",
   "metadata": {
    "id": "hDV1mtKCwmu0"
   },
   "source": [
    "### on evaluation data"
   ]
  },
  {
   "cell_type": "code",
   "execution_count": null,
   "metadata": {
    "colab": {
     "base_uri": "https://localhost:8080/"
    },
    "executionInfo": {
     "elapsed": 1410,
     "status": "ok",
     "timestamp": 1637587712529,
     "user": {
      "displayName": "Rohan avireddy",
      "photoUrl": "https://lh3.googleusercontent.com/a-/AOh14GgDeaM2VSkZlXpIHSVTwhK0x_dzKWLzWzLXidXd=s64",
      "userId": "16070926612337581285"
     },
     "user_tz": -330
    },
    "id": "ubHbGk4wwi-M",
    "outputId": "70caa805-66e6-4b57-e8a2-111fb017acf4"
   },
   "outputs": [
    {
     "name": "stdout",
     "output_type": "stream",
     "text": [
      "Accuracy of the model :  0.18335500650195058\n",
      "Confusion matrix:\n"
     ]
    },
    {
     "data": {
      "text/plain": [
       "array([[141,   0,   0,   0],\n",
       "       [240,   0,   0,   0],\n",
       "       [140,   0,   0,   0],\n",
       "       [248,   0,   0,   0]])"
      ]
     },
     "execution_count": 30,
     "metadata": {},
     "output_type": "execute_result"
    }
   ],
   "source": [
    "list_tokenized_test = tokenizer.texts_to_sequences(val_df['text'])\n",
    "X_test = pad_sequences(list_tokenized_test, maxlen=max_review_length)\n",
    "y_test = t5\n",
    "prediction = model.predict(X_test)\n",
    "y_pred = (prediction > 0.5)\n",
    "print(\"Accuracy of the model : \", accuracy_score(y_pred, y_test))\n",
    "print('Confusion matrix:')\n",
    "confusion_matrix(y_test,y_pred)"
   ]
  },
  {
   "cell_type": "markdown",
   "metadata": {
    "id": "ds4I1FAOwrfz"
   },
   "source": [
    "### on test data"
   ]
  },
  {
   "cell_type": "code",
   "execution_count": null,
   "metadata": {
    "colab": {
     "base_uri": "https://localhost:8080/"
    },
    "executionInfo": {
     "elapsed": 1567,
     "status": "ok",
     "timestamp": 1637587722733,
     "user": {
      "displayName": "Rohan avireddy",
      "photoUrl": "https://lh3.googleusercontent.com/a-/AOh14GgDeaM2VSkZlXpIHSVTwhK0x_dzKWLzWzLXidXd=s64",
      "userId": "16070926612337581285"
     },
     "user_tz": -330
    },
    "id": "vTsr6gJpwuM8",
    "outputId": "09760bdb-2428-417e-ab37-42fda33e7dca"
   },
   "outputs": [
    {
     "name": "stdout",
     "output_type": "stream",
     "text": [
      "Accuracy of the model :  0.17486338797814208\n",
      "Confusion matrix:\n"
     ]
    },
    {
     "data": {
      "text/plain": [
       "array([[224,   0,   0,   0],\n",
       "       [483,   0,   0,   0],\n",
       "       [195,   0,   0,   0],\n",
       "       [379,   0,   0,   0]])"
      ]
     },
     "execution_count": 31,
     "metadata": {},
     "output_type": "execute_result"
    }
   ],
   "source": [
    "list_tokenized_test = tokenizer.texts_to_sequences(hasoc_test['text'])\n",
    "X_test = pad_sequences(list_tokenized_test, maxlen=max_review_length)\n",
    "y_test = t6\n",
    "prediction = model.predict(X_test)\n",
    "y_pred = (prediction > 0.5)\n",
    "print(\"Accuracy of the model : \", accuracy_score(y_pred, y_test))\n",
    "print('Confusion matrix:')\n",
    "confusion_matrix(y_test,y_pred)"
   ]
  }
 ],
 "metadata": {
  "colab": {
   "collapsed_sections": [
    "CkKbTZF2iLvI",
    "M31QjCJti9pm",
    "hErbX2DxwZD-"
   ],
   "name": "LSTM.ipynb",
   "provenance": []
  },
  "kernelspec": {
   "display_name": "Python 3 (ipykernel)",
   "language": "python",
   "name": "python3"
  },
  "language_info": {
   "codemirror_mode": {
    "name": "ipython",
    "version": 3
   },
   "file_extension": ".py",
   "mimetype": "text/x-python",
   "name": "python",
   "nbconvert_exporter": "python",
   "pygments_lexer": "ipython3",
   "version": "3.10.9"
  }
 },
 "nbformat": 4,
 "nbformat_minor": 1
}
